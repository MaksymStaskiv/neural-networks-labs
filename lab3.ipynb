{
  "nbformat": 4,
  "nbformat_minor": 0,
  "metadata": {
    "colab": {
      "provenance": [],
      "toc_visible": true
    },
    "kernelspec": {
      "display_name": "Python 3",
      "name": "python3"
    }
  },
  "cells": [
    {
      "cell_type": "code",
      "metadata": {
        "id": "ILC8B88PGVpi"
      },
      "source": [
        "import pandas as pd\n",
        "import numpy as np\n",
        "from keras.layers.embeddings import Embedding\n",
        "from keras.models import Model\n",
        "import string\n",
        "import tensorflow as tf\n",
        "from keras.preprocessing.text import Tokenizer\n",
        "from sklearn.preprocessing import LabelBinarizer\n",
        "from keras.preprocessing.sequence import pad_sequences\n",
        "import keras\n",
        "from sklearn.model_selection import train_test_split\n",
        "import csv\n",
        "import string\n",
        "import os\n",
        "import sklearn\n",
        "import matplotlib.pyplot as plt\n",
        "import numpy\n",
        "from keras.models import Sequential\n",
        "from keras.layers import LSTM, Dense, Dropout, Masking, Embedding\n",
        "from sklearn.preprocessing import label_binarize"
      ],
      "execution_count": null,
      "outputs": []
    },
    {
      "cell_type": "code",
      "source": [
        "MAX_SIZE = 200"
      ],
      "metadata": {
        "id": "yUbgCovHe2mc"
      },
      "execution_count": null,
      "outputs": []
    },
    {
      "cell_type": "code",
      "source": [
        "path = '/content/drive/MyDrive/NN_Labs/drugLib_raw'"
      ],
      "metadata": {
        "id": "uMdaAv60fD15"
      },
      "execution_count": null,
      "outputs": []
    },
    {
      "cell_type": "code",
      "source": [
        "BATCH_SIZE = 64"
      ],
      "metadata": {
        "id": "ghEXNnMbfEnI"
      },
      "execution_count": null,
      "outputs": []
    },
    {
      "cell_type": "code",
      "source": [
        "def read_data(path, is_train):\n",
        "    data, rating, effectiveness, sideEffects = [], [], [], []\n",
        "    file = os.path.join(path, 'drugLibTrain_raw.tsv' if is_train else 'drugLibTest_raw.tsv')\n",
        "    with open(file, 'r') as f:\n",
        "            tsvreader = csv.reader(f, delimiter=\"\\t\")\n",
        "            for line in tsvreader:\n",
        "                review = line[8].replace('\\n', '').translate(str.maketrans('', '', string.punctuation))\n",
        "                review += line[6].replace('\\n', '').translate(str.maketrans('', '', string.punctuation))\n",
        "                review += line[7].replace('\\n', '').translate(str.maketrans('', '', string.punctuation))\n",
        "                data.append(review)\n",
        "                rating.append(line[2])\n",
        "                effectiveness.append(line[3])\n",
        "                sideEffects.append(line[4])\n",
        "    return data, rating, effectiveness, sideEffects"
      ],
      "metadata": {
        "id": "ScdY3IQVBGP4"
      },
      "execution_count": null,
      "outputs": []
    },
    {
      "cell_type": "code",
      "source": [
        "def cutter(size, a):\n",
        "  ln = int(size/BATCH_SIZE)*BATCH_SIZE\n",
        "  a = a[:ln]\n",
        "  return a"
      ],
      "metadata": {
        "id": "Yet-gBaXBJjk"
      },
      "execution_count": null,
      "outputs": []
    },
    {
      "cell_type": "code",
      "source": [
        "reviews_list, rating, effectiveness, sideEffects = read_data(path, is_train=True)\n",
        "reviews_list.pop(0)\n",
        "rating.pop(0)\n",
        "effectiveness.pop(0)\n",
        "sideEffects.pop(0)"
      ],
      "metadata": {
        "id": "_aA6irD0BMhr",
        "colab": {
          "base_uri": "https://localhost:8080/",
          "height": 35
        },
        "outputId": "c4079dba-7646-4735-88a8-d5c5c2d63127"
      },
      "execution_count": null,
      "outputs": [
        {
          "output_type": "execute_result",
          "data": {
            "text/plain": [
              "'sideEffects'"
            ],
            "application/vnd.google.colaboratory.intrinsic+json": {
              "type": "string"
            }
          },
          "metadata": {},
          "execution_count": 186
        }
      ]
    },
    {
      "cell_type": "code",
      "source": [
        "def inverse(matrix):\n",
        "  listt = []\n",
        "  for arr in matrix:\n",
        "    listt.append(np.argmax(arr))\n",
        "  return listt"
      ],
      "metadata": {
        "id": "2lQhx8S6fYKE"
      },
      "execution_count": null,
      "outputs": []
    },
    {
      "cell_type": "code",
      "metadata": {
        "id": "TTnm3Kwt4F0d"
      },
      "source": [
        "\n",
        "def report(history, y_true_matrix, y_pred_matrix):\n",
        "    plt.plot(history.history['accuracy'])\n",
        "    plt.plot(history.history['val_accuracy'])\n",
        "    plt.title('model accuracy')\n",
        "    plt.ylabel('accuracy')\n",
        "    plt.xlabel('epoch')\n",
        "    plt.legend(['train', 'test'], loc='upper left')\n",
        "    plt.show()\n",
        "    plt.plot(history.history['loss'])\n",
        "    plt.plot(history.history['val_loss'])\n",
        "    plt.title('model loss')\n",
        "    plt.ylabel('loss')\n",
        "    plt.xlabel('epoch')\n",
        "    plt.legend(['train', 'test'], loc='upper left')\n",
        "    plt.show()\n",
        "    y_true = inverse(y_true_matrix)\n",
        "    y_pred = inverse(y_pred_matrix)\n",
        "    print(\"accuracy_score is  {:.2f}%\".format(sklearn.metrics.accuracy_score(y_true, y_pred)*100))\n",
        "    print(\"balanced_accuracy_score is  {:.2f}%\".format(sklearn.metrics.balanced_accuracy_score(y_true, y_pred)*100))\n",
        "    print(\"f1_score is  {:.2f}%\".format(sklearn.metrics.f1_score(y_true, y_pred, average='weighted')*100))\n",
        "    print(\"roc_auc_score is  {:.2f}%\".format(sklearn.metrics.roc_auc_score(y_true_matrix, y_pred_matrix, average='weighted', multi_class='ovo')*100))\n",
        "    print(\"recall_score is  {:.2f}%\".format(sklearn.metrics.recall_score(y_true, y_pred, average='weighted')*100))\n",
        "    print(\"precision_score is  {:.2f}%\".format(sklearn.metrics.precision_score(y_true, y_pred, average='weighted')*100))\n",
        "    print()"
      ],
      "execution_count": null,
      "outputs": []
    },
    {
      "cell_type": "code",
      "metadata": {
        "id": "4cfT3r4nc5GE"
      },
      "source": [
        "def read_glove_vector(glove_vec):\n",
        "  with open(glove_vec, 'r', encoding='UTF-8') as f:\n",
        "    words = set()\n",
        "    word_to_vec_map = {}\n",
        "    for line in f:\n",
        "      w_line = line.split()\n",
        "      curr_word = w_line[0]\n",
        "      word_to_vec_map[curr_word] = np.array(w_line[1:], dtype=np.float64)\n",
        "\n",
        "  return word_to_vec_map\n",
        "\n",
        "word_to_vec_map = read_glove_vector('/content/drive/MyDrive/Colab Notebooks/glove.6B.100d.txt')"
      ],
      "execution_count": null,
      "outputs": []
    },
    {
      "cell_type": "code",
      "metadata": {
        "id": "YbAWQav3QqY0"
      },
      "source": [
        "def lstm(vocab_len, emb_matrix):\n",
        "  model = Sequential()\n",
        "  model.add(Embedding(input_dim=vocab_len, output_dim=100, weights=[emb_matrix], trainable=False, mask_zero=True))\n",
        "  model.add(LSTM(64, return_sequences=False, dropout=0.1, recurrent_dropout=0.1))\n",
        "  model.add(Dense(64, activation='relu'))\n",
        "  model.add(Dense(3, activation='softmax'))\n",
        "  opt = tf.keras.optimizers.SGD(learning_rate = 0.001)\n",
        "  model.compile(optimizer=opt, loss='categorical_crossentropy', metrics=['accuracy'])\n",
        "  return model"
      ],
      "execution_count": null,
      "outputs": []
    },
    {
      "cell_type": "code",
      "source": [
        "def rnn():\n",
        "  model = tf.keras.Sequential([\n",
        "    embedding_layer,\n",
        "    tf.keras.layers.SimpleRNN(32),\n",
        "    tf.keras.layers.Dense(10, activation='relu'),\n",
        "    tf.keras.layers.Dense(3, activation='softmax')\n",
        "    ])\n",
        "  \n",
        "  opt = tf.keras.optimizers.SGD(learning_rate = 0.001)\n",
        "  model.compile(optimizer=opt, loss='categorical_crossentropy', metrics=['accuracy'])\n",
        "  \n",
        "  return model"
      ],
      "metadata": {
        "id": "cQeAPzGXqIlh"
      },
      "execution_count": null,
      "outputs": []
    },
    {
      "cell_type": "code",
      "source": [
        "def gru():\n",
        "  model = tf.keras.Sequential([\n",
        "    embedding_layer,\n",
        "    tf.keras.layers.Bidirectional(tf.keras.layers.GRU(32)),\n",
        "    tf.keras.layers.Dense(10, activation='relu'),\n",
        "    tf.keras.layers.Dense(3, activation='softmax')\n",
        "    ])\n",
        "  \n",
        "  opt = tf.keras.optimizers.SGD(learning_rate = 0.001)\n",
        "  model.compile(optimizer=opt, loss='categorical_crossentropy', metrics=['accuracy'])\n",
        "  \n",
        "  return model"
      ],
      "metadata": {
        "id": "O17nmOu8rAAl"
      },
      "execution_count": null,
      "outputs": []
    },
    {
      "cell_type": "code",
      "metadata": {
        "id": "tjY5K71YWVe4"
      },
      "source": [
        "rating = [int(i)-1 for i in rating]\n",
        "y = np.array(list(map(lambda x: 2 if x>=7 else 1 if 3<x<7 else 0, rating)))"
      ],
      "execution_count": null,
      "outputs": []
    },
    {
      "cell_type": "code",
      "source": [
        "train_un = np.unique(y)\n",
        "ya = label_binarize(y, classes=train_un)"
      ],
      "metadata": {
        "id": "q0Ap-cys3JAl"
      },
      "execution_count": null,
      "outputs": []
    },
    {
      "cell_type": "code",
      "source": [
        "ya.shape"
      ],
      "metadata": {
        "colab": {
          "base_uri": "https://localhost:8080/"
        },
        "id": "QPhIJn26pYdQ",
        "outputId": "c605acbf-517b-4a5e-bb22-29f0b03e410f"
      },
      "execution_count": null,
      "outputs": [
        {
          "output_type": "execute_result",
          "data": {
            "text/plain": [
              "(3107, 3)"
            ]
          },
          "metadata": {},
          "execution_count": 129
        }
      ]
    },
    {
      "cell_type": "code",
      "metadata": {
        "id": "fqkDtVPMYeeT"
      },
      "source": [
        "X_train, X_test, Y_train, Y_test = train_test_split(reviews_list, ya, test_size=0.2, random_state = 45)"
      ],
      "execution_count": null,
      "outputs": []
    },
    {
      "cell_type": "code",
      "metadata": {
        "id": "0rZPh61RP5gH",
        "colab": {
          "base_uri": "https://localhost:8080/"
        },
        "outputId": "1aee87d6-9be0-4377-dc64-d54e5265f140"
      },
      "source": [
        "tokenizer = Tokenizer(num_words=5000)\n",
        "tokenizer.fit_on_texts(X_train)\n",
        "\n",
        "words_to_index = tokenizer.word_index\n",
        "len(words_to_index)"
      ],
      "execution_count": null,
      "outputs": [
        {
          "output_type": "execute_result",
          "data": {
            "text/plain": [
              "17894"
            ]
          },
          "metadata": {},
          "execution_count": 120
        }
      ]
    },
    {
      "cell_type": "code",
      "metadata": {
        "id": "Am3MZl2fobDn"
      },
      "source": [
        "vocab_len = len(words_to_index)\n",
        "embed_vector_len = word_to_vec_map['moon'].shape[0]\n",
        "\n",
        "emb_matrix = np.zeros((vocab_len, embed_vector_len))\n",
        "\n",
        "for word, index in words_to_index.items():\n",
        "  embedding_vector = word_to_vec_map.get(word)\n",
        "  if embedding_vector is not None:\n",
        "    emb_matrix[index-1, :] = embedding_vector\n",
        "\n",
        "embedding_layer = Embedding(input_dim=vocab_len, output_dim=embed_vector_len, input_length=MAX_SIZE, weights = [emb_matrix], trainable=False)"
      ],
      "execution_count": null,
      "outputs": []
    },
    {
      "cell_type": "code",
      "metadata": {
        "id": "PeB6unmRpa2a",
        "colab": {
          "base_uri": "https://localhost:8080/"
        },
        "outputId": "5f4eb3b4-abc1-489f-c12c-3a5336f08b6a"
      },
      "source": [
        "import tensorflow as tf\n",
        "\n",
        "model = lstm(vocab_len, emb_matrix)\n",
        "model.summary()"
      ],
      "execution_count": null,
      "outputs": [
        {
          "output_type": "stream",
          "name": "stdout",
          "text": [
            "Model: \"sequential_6\"\n",
            "_________________________________________________________________\n",
            " Layer (type)                Output Shape              Param #   \n",
            "=================================================================\n",
            " embedding_8 (Embedding)     (None, None, 100)         1789400   \n",
            "                                                                 \n",
            " lstm_4 (LSTM)               (None, 64)                42240     \n",
            "                                                                 \n",
            " dense_8 (Dense)             (None, 64)                4160      \n",
            "                                                                 \n",
            " dense_9 (Dense)             (None, 3)                 195       \n",
            "                                                                 \n",
            "=================================================================\n",
            "Total params: 1,835,995\n",
            "Trainable params: 46,595\n",
            "Non-trainable params: 1,789,400\n",
            "_________________________________________________________________\n"
          ]
        }
      ]
    },
    {
      "cell_type": "code",
      "metadata": {
        "id": "NSdM8mIMRRnM"
      },
      "source": [
        "X_train_indices = tokenizer.texts_to_sequences(X_train)\n",
        "X_train_indices = pad_sequences(X_train_indices, maxlen=MAX_SIZE, padding='post')\n",
        "\n",
        "X_test_indices = tokenizer.texts_to_sequences(X_test)\n",
        "X_test_indices = pad_sequences(X_test_indices, maxlen=MAX_SIZE, padding='post')"
      ],
      "execution_count": null,
      "outputs": []
    },
    {
      "cell_type": "code",
      "metadata": {
        "colab": {
          "base_uri": "https://localhost:8080/"
        },
        "outputId": "ee9836ff-eb0b-40a3-b61a-6f302e8ca19d",
        "id": "sIfbbmY3oen8"
      },
      "source": [
        "history = model.fit(X_train_indices, Y_train, batch_size=64, epochs=5, validation_data=(X_test_indices, Y_test))"
      ],
      "execution_count": null,
      "outputs": [
        {
          "output_type": "stream",
          "name": "stdout",
          "text": [
            "Epoch 1/5\n",
            "39/39 [==============================] - 19s 408ms/step - loss: 1.1071 - accuracy: 0.2889 - val_loss: 1.0920 - val_accuracy: 0.3473\n",
            "Epoch 2/5\n",
            "39/39 [==============================] - 16s 417ms/step - loss: 1.0730 - accuracy: 0.4652 - val_loss: 1.0624 - val_accuracy: 0.5418\n",
            "Epoch 3/5\n",
            "39/39 [==============================] - 15s 396ms/step - loss: 1.0490 - accuracy: 0.5461 - val_loss: 1.0411 - val_accuracy: 0.5659\n",
            "Epoch 4/5\n",
            "39/39 [==============================] - 15s 396ms/step - loss: 1.0302 - accuracy: 0.5706 - val_loss: 1.0255 - val_accuracy: 0.5707\n",
            "Epoch 5/5\n",
            "39/39 [==============================] - 15s 393ms/step - loss: 1.0177 - accuracy: 0.5722 - val_loss: 1.0137 - val_accuracy: 0.5740\n"
          ]
        }
      ]
    },
    {
      "cell_type": "code",
      "metadata": {
        "colab": {
          "base_uri": "https://localhost:8080/"
        },
        "outputId": "2d507933-5e46-4468-f2ed-95c4b937858c",
        "id": "MLAXKZQZo3zI"
      },
      "source": [
        "X_test_indices = tokenizer.texts_to_sequences(X_test)\n",
        "X_test_indices = pad_sequences(X_test_indices, maxlen=MAX_SIZE, padding='post')\n",
        "\n",
        "model.evaluate(X_test_indices, Y_test)"
      ],
      "execution_count": null,
      "outputs": [
        {
          "output_type": "stream",
          "name": "stdout",
          "text": [
            "20/20 [==============================] - 1s 44ms/step - loss: 1.0137 - accuracy: 0.5740\n"
          ]
        },
        {
          "output_type": "execute_result",
          "data": {
            "text/plain": [
              "[1.0137265920639038, 0.5739549994468689]"
            ]
          },
          "metadata": {},
          "execution_count": 126
        }
      ]
    },
    {
      "cell_type": "code",
      "source": [
        "y_true_matrix = Y_test\n",
        "y_pred_matrix = model.predict(X_test_indices)\n",
        "\n",
        "report(history, y_true_matrix, y_pred_matrix)"
      ],
      "metadata": {
        "colab": {
          "base_uri": "https://localhost:8080/",
          "height": 755
        },
        "id": "FdFTXRuVW8hF",
        "outputId": "b2148e56-1bf0-44f8-b4d8-2e81affb2317"
      },
      "execution_count": null,
      "outputs": [
        {
          "output_type": "display_data",
          "data": {
            "text/plain": [
              "<Figure size 432x288 with 1 Axes>"
            ],
            "image/png": "[encoded data removed]"
          },
          "metadata": {
            "needs_background": "light"
          }
        },
        {
          "output_type": "display_data",
          "data": {
            "text/plain": [
              "<Figure size 432x288 with 1 Axes>"
            ],
            "image/png": "[encoded data removed]"
          },
          "metadata": {
            "needs_background": "light"
          }
        },
        {
          "output_type": "stream",
          "name": "stdout",
          "text": [
            "accuracy_score is  57.40%\n",
            "balanced_accuracy_score is  33.24%\n",
            "f1_score is  41.98%\n",
            "roc_auc_score is  50.82%\n",
            "recall_score is  57.40%\n",
            "precision_score is  33.09%\n",
            "\n"
          ]
        },
        {
          "output_type": "stream",
          "name": "stderr",
          "text": [
            "/usr/local/lib/python3.7/dist-packages/sklearn/metrics/_classification.py:1318: UndefinedMetricWarning: Precision is ill-defined and being set to 0.0 in labels with no predicted samples. Use `zero_division` parameter to control this behavior.\n",
            "  _warn_prf(average, modifier, msg_start, len(result))\n"
          ]
        }
      ]
    },
    {
      "cell_type": "markdown",
      "source": [
        "# **Simple RNN**"
      ],
      "metadata": {
        "id": "XrORbeKFhEKL"
      }
    },
    {
      "cell_type": "code",
      "source": [
        "model = rnn()\n",
        "model.summary()"
      ],
      "metadata": {
        "colab": {
          "base_uri": "https://localhost:8080/"
        },
        "id": "X-Dm__6KhDZR",
        "outputId": "b60e3f4d-9193-4c26-da9a-c32a47929037"
      },
      "execution_count": null,
      "outputs": [
        {
          "output_type": "stream",
          "name": "stdout",
          "text": [
            "Model: \"sequential_6\"\n",
            "_________________________________________________________________\n",
            " Layer (type)                Output Shape              Param #   \n",
            "=================================================================\n",
            " embedding (Embedding)       (None, 200, 100)          1792200   \n",
            "                                                                 \n",
            " simple_rnn_1 (SimpleRNN)    (None, 32)                4256      \n",
            "                                                                 \n",
            " dense_13 (Dense)            (None, 10)                330       \n",
            "                                                                 \n",
            " dense_14 (Dense)            (None, 3)                 33        \n",
            "                                                                 \n",
            "=================================================================\n",
            "Total params: 1,796,819\n",
            "Trainable params: 4,619\n",
            "Non-trainable params: 1,792,200\n",
            "_________________________________________________________________\n"
          ]
        }
      ]
    },
    {
      "cell_type": "code",
      "source": [
        "history = model.fit(X_train_indices, Y_train, batch_size=64, epochs=5, validation_data=(X_test_indices, Y_test))"
      ],
      "metadata": {
        "colab": {
          "base_uri": "https://localhost:8080/"
        },
        "id": "R94f9Hl2h_45",
        "outputId": "1952d28a-1477-48f0-9bda-4464d3258d24"
      },
      "execution_count": null,
      "outputs": [
        {
          "output_type": "stream",
          "name": "stdout",
          "text": [
            "Epoch 1/5\n",
            "39/39 [==============================] - 4s 58ms/step - loss: 0.9870 - accuracy: 0.5725 - val_loss: 0.9936 - val_accuracy: 0.5707\n",
            "Epoch 2/5\n",
            "39/39 [==============================] - 2s 51ms/step - loss: 0.9839 - accuracy: 0.5725 - val_loss: 0.9806 - val_accuracy: 0.5707\n",
            "Epoch 3/5\n",
            "39/39 [==============================] - 2s 53ms/step - loss: 0.9789 - accuracy: 0.5729 - val_loss: 0.9802 - val_accuracy: 0.5707\n",
            "Epoch 4/5\n",
            "39/39 [==============================] - 2s 51ms/step - loss: 0.9769 - accuracy: 0.5749 - val_loss: 0.9858 - val_accuracy: 0.5691\n",
            "Epoch 5/5\n",
            "39/39 [==============================] - 2s 50ms/step - loss: 0.9766 - accuracy: 0.5745 - val_loss: 0.9807 - val_accuracy: 0.5707\n"
          ]
        }
      ]
    },
    {
      "cell_type": "code",
      "source": [
        "model.evaluate(X_test_indices, Y_test)"
      ],
      "metadata": {
        "colab": {
          "base_uri": "https://localhost:8080/"
        },
        "id": "7IWGD7YaifTi",
        "outputId": "5ba2ff27-ef3c-4437-e9e6-f31bfcea20ba"
      },
      "execution_count": null,
      "outputs": [
        {
          "output_type": "stream",
          "name": "stdout",
          "text": [
            "20/20 [==============================] - 1s 24ms/step - loss: 0.9807 - accuracy: 0.5707\n"
          ]
        },
        {
          "output_type": "execute_result",
          "data": {
            "text/plain": [
              "[0.980650007724762, 0.5707395672798157]"
            ]
          },
          "metadata": {},
          "execution_count": 192
        }
      ]
    },
    {
      "cell_type": "code",
      "source": [
        "y_true_matrix = Y_test\n",
        "y_pred_matrix = model.predict(X_test_indices)\n",
        "\n",
        "report(history, y_true_matrix, y_pred_matrix)"
      ],
      "metadata": {
        "colab": {
          "base_uri": "https://localhost:8080/",
          "height": 700
        },
        "id": "o_ekj2HPilm5",
        "outputId": "fa1c5cf6-6f53-4a2f-c2da-997509233fd8"
      },
      "execution_count": null,
      "outputs": [
        {
          "output_type": "display_data",
          "data": {
            "text/plain": [
              "<Figure size 432x288 with 1 Axes>"
            ],
            "image/png": "[encoded data removed]"
          },
          "metadata": {
            "needs_background": "light"
          }
        },
        {
          "output_type": "display_data",
          "data": {
            "text/plain": [
              "<Figure size 432x288 with 1 Axes>"
            ],
            "image/png": "[encoded data removed]"
          },
          "metadata": {
            "needs_background": "light"
          }
        },
        {
          "output_type": "stream",
          "name": "stdout",
          "text": [
            "accuracy_score is  57.07%\n",
            "balanced_accuracy_score is  33.15%\n",
            "f1_score is  41.71%\n",
            "roc_auc_score is  51.34%\n",
            "recall_score is  57.07%\n",
            "precision_score is  32.86%\n",
            "\n"
          ]
        }
      ]
    },
    {
      "cell_type": "markdown",
      "source": [
        "# **GRU**"
      ],
      "metadata": {
        "id": "Ckyg8l_ai0DG"
      }
    },
    {
      "cell_type": "code",
      "source": [
        "model = gru()\n",
        "model.summary()"
      ],
      "metadata": {
        "colab": {
          "base_uri": "https://localhost:8080/"
        },
        "id": "VzgsKeBjiy_f",
        "outputId": "747f4de8-fb92-4786-fa70-4e447855a6a9"
      },
      "execution_count": null,
      "outputs": [
        {
          "output_type": "stream",
          "name": "stdout",
          "text": [
            "Model: \"sequential_7\"\n",
            "_________________________________________________________________\n",
            " Layer (type)                Output Shape              Param #   \n",
            "=================================================================\n",
            " embedding (Embedding)       (None, 200, 100)          1792200   \n",
            "                                                                 \n",
            " bidirectional (Bidirectiona  (None, 64)               25728     \n",
            " l)                                                              \n",
            "                                                                 \n",
            " dense_15 (Dense)            (None, 10)                650       \n",
            "                                                                 \n",
            " dense_16 (Dense)            (None, 3)                 33        \n",
            "                                                                 \n",
            "=================================================================\n",
            "Total params: 1,818,611\n",
            "Trainable params: 26,411\n",
            "Non-trainable params: 1,792,200\n",
            "_________________________________________________________________\n"
          ]
        }
      ]
    },
    {
      "cell_type": "code",
      "source": [
        "history = model.fit(X_train_indices, Y_train, batch_size=64, epochs=5, validation_data=(X_test_indices, Y_test))"
      ],
      "metadata": {
        "colab": {
          "base_uri": "https://localhost:8080/"
        },
        "id": "RnXXc7b2jFgM",
        "outputId": "c2159c3f-4e1c-4ef1-a2f2-54180f8c1b17"
      },
      "execution_count": null,
      "outputs": [
        {
          "output_type": "stream",
          "name": "stdout",
          "text": [
            "Epoch 1/5\n",
            "39/39 [==============================] - 16s 294ms/step - loss: 1.0171 - accuracy: 0.5399 - val_loss: 0.9821 - val_accuracy: 0.5691\n",
            "Epoch 2/5\n",
            "39/39 [==============================] - 9s 243ms/step - loss: 0.9793 - accuracy: 0.5721 - val_loss: 0.9852 - val_accuracy: 0.5691\n",
            "Epoch 3/5\n",
            "39/39 [==============================] - 10s 254ms/step - loss: 0.9732 - accuracy: 0.5745 - val_loss: 0.9811 - val_accuracy: 0.5691\n",
            "Epoch 4/5\n",
            "39/39 [==============================] - 10s 254ms/step - loss: 0.9716 - accuracy: 0.5749 - val_loss: 0.9821 - val_accuracy: 0.5723\n",
            "Epoch 5/5\n",
            "39/39 [==============================] - 9s 232ms/step - loss: 0.9697 - accuracy: 0.5749 - val_loss: 0.9829 - val_accuracy: 0.5723\n"
          ]
        }
      ]
    },
    {
      "cell_type": "code",
      "source": [
        "model.evaluate(X_test_indices, Y_test)"
      ],
      "metadata": {
        "colab": {
          "base_uri": "https://localhost:8080/"
        },
        "id": "i8zpcD08jMY0",
        "outputId": "333a3acf-0bc6-4e4f-af79-06c9bcfa9b90"
      },
      "execution_count": null,
      "outputs": [
        {
          "output_type": "stream",
          "name": "stdout",
          "text": [
            "20/20 [==============================] - 1s 33ms/step - loss: 0.9829 - accuracy: 0.5723\n"
          ]
        },
        {
          "output_type": "execute_result",
          "data": {
            "text/plain": [
              "[0.9829221963882446, 0.5723472833633423]"
            ]
          },
          "metadata": {},
          "execution_count": 198
        }
      ]
    },
    {
      "cell_type": "code",
      "source": [
        "y_true_matrix = Y_test\n",
        "y_pred_matrix = model.predict(X_test_indices)\n",
        "\n",
        "report(history, y_true_matrix, y_pred_matrix)"
      ],
      "metadata": {
        "colab": {
          "base_uri": "https://localhost:8080/",
          "height": 755
        },
        "id": "d8btROyCjQwC",
        "outputId": "7d5f4c12-8d56-474f-d55c-56cece8330a6"
      },
      "execution_count": null,
      "outputs": [
        {
          "output_type": "display_data",
          "data": {
            "text/plain": [
              "<Figure size 432x288 with 1 Axes>"
            ],
            "image/png": "[encoded data removed]"
          },
          "metadata": {
            "needs_background": "light"
          }
        },
        {
          "output_type": "display_data",
          "data": {
            "text/plain": [
              "<Figure size 432x288 with 1 Axes>"
            ],
            "image/png": "[encoded data removed]"
          },
          "metadata": {
            "needs_background": "light"
          }
        },
        {
          "output_type": "stream",
          "name": "stdout",
          "text": [
            "accuracy_score is  57.23%\n",
            "balanced_accuracy_score is  33.24%\n",
            "f1_score is  41.83%\n",
            "roc_auc_score is  54.76%\n",
            "recall_score is  57.23%\n",
            "precision_score is  32.96%\n",
            "\n"
          ]
        },
        {
          "output_type": "stream",
          "name": "stderr",
          "text": [
            "/usr/local/lib/python3.7/dist-packages/sklearn/metrics/_classification.py:1318: UndefinedMetricWarning: Precision is ill-defined and being set to 0.0 in labels with no predicted samples. Use `zero_division` parameter to control this behavior.\n",
            "  _warn_prf(average, modifier, msg_start, len(result))\n"
          ]
        }
      ]
    },
    {
      "cell_type": "markdown",
      "source": [
        "# effectiveness"
      ],
      "metadata": {
        "id": "dTKg-7FYm5_Q"
      }
    },
    {
      "cell_type": "code",
      "source": [
        "def mapping(lst, two, one, zero):\n",
        "  mapped = []\n",
        "  for i in range(len(lst)):\n",
        "      s = lst[i]\n",
        "      if s in two:\n",
        "        mapped.append(2)\n",
        "      elif s in one:\n",
        "        mapped.append(1)\n",
        "      elif s in zero:\n",
        "        mapped.append(0)\n",
        "      else:\n",
        "        ValueError('!!!')\n",
        "\n",
        "  return mapped"
      ],
      "metadata": {
        "id": "sdeidvWPm5_S"
      },
      "execution_count": null,
      "outputs": []
    },
    {
      "cell_type": "code",
      "source": [
        "np.unique(effectiveness)"
      ],
      "metadata": {
        "colab": {
          "base_uri": "https://localhost:8080/"
        },
        "outputId": "d6731666-3868-4434-a02e-22d4e1eb5563",
        "id": "RMYBMXnZm5_X"
      },
      "execution_count": null,
      "outputs": [
        {
          "output_type": "execute_result",
          "data": {
            "text/plain": [
              "array(['Considerably Effective', 'Highly Effective', 'Ineffective',\n",
              "       'Marginally Effective', 'Moderately Effective'], dtype='<U22')"
            ]
          },
          "metadata": {},
          "execution_count": 208
        }
      ]
    },
    {
      "cell_type": "code",
      "source": [
        "two = ['Considerably Effective', 'Highly Effective']\n",
        "one = ['Marginally Effective', 'Moderately Effective']\n",
        "zero = ['Ineffective']\n",
        "\n",
        "effectiveness = mapping(effectiveness, two, one, zero)\n",
        "train_un = np.unique(effectiveness)\n",
        "train_un"
      ],
      "metadata": {
        "colab": {
          "base_uri": "https://localhost:8080/"
        },
        "outputId": "0fcb86d8-8d7e-4ede-fc7c-402ee37139cd",
        "id": "BJzopW-Dm5_Y"
      },
      "execution_count": null,
      "outputs": [
        {
          "output_type": "execute_result",
          "data": {
            "text/plain": [
              "array([0, 1, 2])"
            ]
          },
          "metadata": {},
          "execution_count": 209
        }
      ]
    },
    {
      "cell_type": "code",
      "source": [
        "from sklearn.preprocessing import label_binarize\n",
        "ya = label_binarize(effectiveness, classes=train_un)\n",
        "ya.shape"
      ],
      "metadata": {
        "colab": {
          "base_uri": "https://localhost:8080/"
        },
        "id": "ugJNvI38m5_Z",
        "outputId": "76cc06f7-2e82-44a5-873c-b64a607536cd"
      },
      "execution_count": null,
      "outputs": [
        {
          "output_type": "execute_result",
          "data": {
            "text/plain": [
              "(3107, 3)"
            ]
          },
          "metadata": {},
          "execution_count": 210
        }
      ]
    },
    {
      "cell_type": "code",
      "source": [
        "X_train, X_test, Y_train, Y_test = train_test_split(reviews_list, ya, test_size=0.2, random_state = 45)"
      ],
      "metadata": {
        "id": "KIePZAFLm5_a"
      },
      "execution_count": null,
      "outputs": []
    },
    {
      "cell_type": "code",
      "source": [
        "tokenizer = Tokenizer(num_words=5000)\n",
        "tokenizer.fit_on_texts(X_train)\n",
        "\n",
        "words_to_index = tokenizer.word_index\n",
        "len(words_to_index)"
      ],
      "metadata": {
        "colab": {
          "base_uri": "https://localhost:8080/"
        },
        "id": "88rBF52LnJ-t",
        "outputId": "b5cc28d1-b5aa-43fa-c940-de7e630be64e"
      },
      "execution_count": null,
      "outputs": [
        {
          "output_type": "execute_result",
          "data": {
            "text/plain": [
              "17894"
            ]
          },
          "metadata": {},
          "execution_count": 212
        }
      ]
    },
    {
      "cell_type": "code",
      "source": [
        "vocab_len = len(words_to_index)\n",
        "embed_vector_len = word_to_vec_map['moon'].shape[0]\n",
        "\n",
        "emb_matrix = np.zeros((vocab_len, embed_vector_len))\n",
        "\n",
        "for word, index in words_to_index.items():\n",
        "  embedding_vector = word_to_vec_map.get(word)\n",
        "  if embedding_vector is not None:\n",
        "    emb_matrix[index-1, :] = embedding_vector\n",
        "\n",
        "embedding_layer = Embedding(input_dim=vocab_len, output_dim=embed_vector_len, input_length=MAX_SIZE, weights = [emb_matrix], trainable=False)"
      ],
      "metadata": {
        "id": "GxSBNZL7nNaq"
      },
      "execution_count": null,
      "outputs": []
    },
    {
      "cell_type": "markdown",
      "source": [
        "# **LSTM**"
      ],
      "metadata": {
        "id": "0-BPz4cHhj8B"
      }
    },
    {
      "cell_type": "code",
      "source": [
        "model = lstm(vocab_len, emb_matrix)\n",
        "model.summary()"
      ],
      "metadata": {
        "colab": {
          "base_uri": "https://localhost:8080/"
        },
        "id": "ZLtalkQakn82",
        "outputId": "84a5737f-f634-4788-e976-66e6cfa422b0"
      },
      "execution_count": null,
      "outputs": [
        {
          "output_type": "stream",
          "name": "stdout",
          "text": [
            "Model: \"sequential_19\"\n",
            "_________________________________________________________________\n",
            " Layer (type)                Output Shape              Param #   \n",
            "=================================================================\n",
            " embedding_18 (Embedding)    (None, None, 100)         1789400   \n",
            "                                                                 \n",
            " lstm_10 (LSTM)              (None, 64)                42240     \n",
            "                                                                 \n",
            " dense_34 (Dense)            (None, 64)                4160      \n",
            "                                                                 \n",
            " dense_35 (Dense)            (None, 3)                 195       \n",
            "                                                                 \n",
            "=================================================================\n",
            "Total params: 1,835,995\n",
            "Trainable params: 46,595\n",
            "Non-trainable params: 1,789,400\n",
            "_________________________________________________________________\n"
          ]
        }
      ]
    },
    {
      "cell_type": "code",
      "metadata": {
        "id": "qH_h14QcnXMq"
      },
      "source": [
        "X_train_indices = tokenizer.texts_to_sequences(X_train)\n",
        "X_train_indices = pad_sequences(X_train_indices, maxlen=MAX_SIZE, padding='post')\n",
        "\n",
        "X_test_indices = tokenizer.texts_to_sequences(X_test)\n",
        "X_test_indices = pad_sequences(X_test_indices, maxlen=MAX_SIZE, padding='post')"
      ],
      "execution_count": null,
      "outputs": []
    },
    {
      "cell_type": "code",
      "metadata": {
        "colab": {
          "base_uri": "https://localhost:8080/"
        },
        "outputId": "2de1fe63-70d6-4c99-cfbf-71b82efc666c",
        "id": "vJzdtm_Iu2Y1"
      },
      "source": [
        "history = model.fit(X_train_indices, Y_train, batch_size=64, epochs=5, validation_data=(X_test_indices, Y_test))"
      ],
      "execution_count": null,
      "outputs": [
        {
          "output_type": "stream",
          "name": "stdout",
          "text": [
            "Epoch 1/5\n",
            "39/39 [==============================] - 20s 418ms/step - loss: 1.0524 - accuracy: 0.5235 - val_loss: 1.0185 - val_accuracy: 0.6817\n",
            "Epoch 2/5\n",
            "39/39 [==============================] - 16s 403ms/step - loss: 1.0012 - accuracy: 0.6893 - val_loss: 0.9705 - val_accuracy: 0.7267\n",
            "Epoch 3/5\n",
            "39/39 [==============================] - 16s 406ms/step - loss: 0.9586 - accuracy: 0.7175 - val_loss: 0.9296 - val_accuracy: 0.7283\n",
            "Epoch 4/5\n",
            "39/39 [==============================] - 16s 405ms/step - loss: 0.9236 - accuracy: 0.7235 - val_loss: 0.8943 - val_accuracy: 0.7283\n",
            "Epoch 5/5\n",
            "39/39 [==============================] - 16s 410ms/step - loss: 0.8911 - accuracy: 0.7243 - val_loss: 0.8640 - val_accuracy: 0.7331\n"
          ]
        }
      ]
    },
    {
      "cell_type": "code",
      "source": [
        "X_test_indices = tokenizer.texts_to_sequences(X_test)\n",
        "X_test_indices = pad_sequences(X_test_indices, maxlen=MAX_SIZE, padding='post')\n",
        "\n",
        "model.evaluate(X_test_indices, Y_test)"
      ],
      "metadata": {
        "colab": {
          "base_uri": "https://localhost:8080/"
        },
        "id": "m_t4Noa3qBzb",
        "outputId": "e3339211-892c-446c-f218-d6346120b56a"
      },
      "execution_count": null,
      "outputs": [
        {
          "output_type": "stream",
          "name": "stdout",
          "text": [
            "20/20 [==============================] - 1s 45ms/step - loss: 0.8640 - accuracy: 0.7331\n"
          ]
        },
        {
          "output_type": "execute_result",
          "data": {
            "text/plain": [
              "[0.8639524579048157, 0.7331189513206482]"
            ]
          },
          "metadata": {},
          "execution_count": 218
        }
      ]
    },
    {
      "cell_type": "code",
      "source": [
        "y_true_matrix = Y_test\n",
        "y_pred_matrix = model.predict(X_test_indices)\n",
        "\n",
        "report(history, y_true_matrix, y_pred_matrix)"
      ],
      "metadata": {
        "colab": {
          "base_uri": "https://localhost:8080/",
          "height": 755
        },
        "outputId": "df8be77a-8623-46a5-e46a-00cf739b7340",
        "id": "D6dE21SOnXMt"
      },
      "execution_count": null,
      "outputs": [
        {
          "output_type": "display_data",
          "data": {
            "text/plain": [
              "<Figure size 432x288 with 1 Axes>"
            ],
            "image/png": "[encoded data removed]"
          },
          "metadata": {
            "needs_background": "light"
          }
        },
        {
          "output_type": "display_data",
          "data": {
            "text/plain": [
              "<Figure size 432x288 with 1 Axes>"
            ],
            "image/png": "[encoded data removed]"
          },
          "metadata": {
            "needs_background": "light"
          }
        },
        {
          "output_type": "stream",
          "name": "stdout",
          "text": [
            "accuracy_score is  73.31%\n",
            "balanced_accuracy_score is  33.26%\n",
            "f1_score is  62.16%\n",
            "roc_auc_score is  52.23%\n",
            "recall_score is  73.31%\n",
            "precision_score is  53.95%\n",
            "\n"
          ]
        },
        {
          "output_type": "stream",
          "name": "stderr",
          "text": [
            "/usr/local/lib/python3.7/dist-packages/sklearn/metrics/_classification.py:1318: UndefinedMetricWarning: Precision is ill-defined and being set to 0.0 in labels with no predicted samples. Use `zero_division` parameter to control this behavior.\n",
            "  _warn_prf(average, modifier, msg_start, len(result))\n"
          ]
        }
      ]
    },
    {
      "cell_type": "markdown",
      "source": [
        "# **Simple RNN**"
      ],
      "metadata": {
        "id": "uCCKh0rKq36g"
      }
    },
    {
      "cell_type": "code",
      "source": [
        "model = rnn()\n",
        "model.summary()"
      ],
      "metadata": {
        "colab": {
          "base_uri": "https://localhost:8080/"
        },
        "outputId": "1d9af841-70e4-4102-ecb6-4e3de231bf07",
        "id": "mk8m2uHmq36s"
      },
      "execution_count": null,
      "outputs": [
        {
          "output_type": "stream",
          "name": "stdout",
          "text": [
            "Model: \"sequential_22\"\n",
            "_________________________________________________________________\n",
            " Layer (type)                Output Shape              Param #   \n",
            "=================================================================\n",
            " embedding_17 (Embedding)    (None, 200, 100)          1789400   \n",
            "                                                                 \n",
            " simple_rnn_6 (SimpleRNN)    (None, 32)                4256      \n",
            "                                                                 \n",
            " dense_40 (Dense)            (None, 10)                330       \n",
            "                                                                 \n",
            " dense_41 (Dense)            (None, 3)                 33        \n",
            "                                                                 \n",
            "=================================================================\n",
            "Total params: 1,794,019\n",
            "Trainable params: 4,619\n",
            "Non-trainable params: 1,789,400\n",
            "_________________________________________________________________\n"
          ]
        }
      ]
    },
    {
      "cell_type": "code",
      "source": [
        "history = model.fit(X_train_indices, Y_train, batch_size=64, epochs=5, validation_data=(X_test_indices, Y_test))"
      ],
      "metadata": {
        "colab": {
          "base_uri": "https://localhost:8080/"
        },
        "outputId": "f4fb81d1-1d41-4d63-b67a-f33f0038378f",
        "id": "XHjAQPrpvl_T"
      },
      "execution_count": null,
      "outputs": [
        {
          "output_type": "stream",
          "name": "stdout",
          "text": [
            "Epoch 1/5\n",
            "39/39 [==============================] - 4s 92ms/step - loss: 1.1962 - accuracy: 0.1034 - val_loss: 1.0493 - val_accuracy: 0.1125\n",
            "Epoch 2/5\n",
            "39/39 [==============================] - 2s 60ms/step - loss: 1.0030 - accuracy: 0.6757 - val_loss: 0.9436 - val_accuracy: 0.7122\n",
            "Epoch 3/5\n",
            "39/39 [==============================] - 2s 45ms/step - loss: 0.9235 - accuracy: 0.7010 - val_loss: 0.8898 - val_accuracy: 0.7251\n",
            "Epoch 4/5\n",
            "39/39 [==============================] - 2s 44ms/step - loss: 0.8887 - accuracy: 0.7054 - val_loss: 0.8631 - val_accuracy: 0.7267\n",
            "Epoch 5/5\n",
            "39/39 [==============================] - 2s 44ms/step - loss: 0.8659 - accuracy: 0.7111 - val_loss: 0.8418 - val_accuracy: 0.7299\n"
          ]
        }
      ]
    },
    {
      "cell_type": "code",
      "source": [
        "model.evaluate(X_test_indices, Y_test)"
      ],
      "metadata": {
        "colab": {
          "base_uri": "https://localhost:8080/"
        },
        "id": "FeGaic_gxCR6",
        "outputId": "537fa073-68a9-430a-ffc6-1acbcf739613"
      },
      "execution_count": null,
      "outputs": [
        {
          "output_type": "stream",
          "name": "stdout",
          "text": [
            "20/20 [==============================] - 0s 13ms/step - loss: 0.8418 - accuracy: 0.7299\n"
          ]
        },
        {
          "output_type": "execute_result",
          "data": {
            "text/plain": [
              "[0.841812789440155, 0.729903519153595]"
            ]
          },
          "metadata": {},
          "execution_count": 231
        }
      ]
    },
    {
      "cell_type": "code",
      "source": [
        "y_true_matrix = Y_test\n",
        "y_pred_matrix = model.predict(X_test_indices)\n",
        "\n",
        "report(history, y_true_matrix, y_pred_matrix)"
      ],
      "metadata": {
        "colab": {
          "base_uri": "https://localhost:8080/",
          "height": 755
        },
        "outputId": "d6230223-9693-43e3-ea3b-2c65e1e5b9d7",
        "id": "WMoxzEDFq36t"
      },
      "execution_count": null,
      "outputs": [
        {
          "output_type": "display_data",
          "data": {
            "text/plain": [
              "<Figure size 432x288 with 1 Axes>"
            ],
            "image/png": "[encoded data removed]"
          },
          "metadata": {
            "needs_background": "light"
          }
        },
        {
          "output_type": "display_data",
          "data": {
            "text/plain": [
              "<Figure size 432x288 with 1 Axes>"
            ],
            "image/png": "[encoded data removed]"
          },
          "metadata": {
            "needs_background": "light"
          }
        },
        {
          "output_type": "stream",
          "name": "stdout",
          "text": [
            "accuracy_score is  72.83%\n",
            "balanced_accuracy_score is  33.65%\n",
            "f1_score is  62.35%\n",
            "roc_auc_score is  49.52%\n",
            "recall_score is  72.83%\n",
            "precision_score is  55.05%\n",
            "\n"
          ]
        },
        {
          "output_type": "stream",
          "name": "stderr",
          "text": [
            "/usr/local/lib/python3.7/dist-packages/sklearn/metrics/_classification.py:1318: UndefinedMetricWarning: Precision is ill-defined and being set to 0.0 in labels with no predicted samples. Use `zero_division` parameter to control this behavior.\n",
            "  _warn_prf(average, modifier, msg_start, len(result))\n"
          ]
        }
      ]
    },
    {
      "cell_type": "markdown",
      "source": [
        "# **GRU**"
      ],
      "metadata": {
        "id": "IvQYO5pRrNY4"
      }
    },
    {
      "cell_type": "code",
      "source": [
        "model = gru()\n",
        "model.summary()"
      ],
      "metadata": {
        "colab": {
          "base_uri": "https://localhost:8080/"
        },
        "outputId": "1a8e1ada-e4d3-4daf-8211-ab7d7dfe4fd2",
        "id": "AgsQyJInrNY5"
      },
      "execution_count": null,
      "outputs": [
        {
          "output_type": "stream",
          "name": "stdout",
          "text": [
            "Model: \"sequential_21\"\n",
            "_________________________________________________________________\n",
            " Layer (type)                Output Shape              Param #   \n",
            "=================================================================\n",
            " embedding_17 (Embedding)    (None, 200, 100)          1789400   \n",
            "                                                                 \n",
            " bidirectional_2 (Bidirectio  (None, 64)               25728     \n",
            " nal)                                                            \n",
            "                                                                 \n",
            " dense_38 (Dense)            (None, 10)                650       \n",
            "                                                                 \n",
            " dense_39 (Dense)            (None, 3)                 33        \n",
            "                                                                 \n",
            "=================================================================\n",
            "Total params: 1,815,811\n",
            "Trainable params: 26,411\n",
            "Non-trainable params: 1,789,400\n",
            "_________________________________________________________________\n"
          ]
        }
      ]
    },
    {
      "cell_type": "code",
      "source": [
        "history = model.fit(X_train_indices, Y_train, batch_size=64, epochs=5, validation_data=(X_test_indices, Y_test))"
      ],
      "metadata": {
        "colab": {
          "base_uri": "https://localhost:8080/"
        },
        "outputId": "0b6605c9-e1eb-4983-96ac-1471549f9497",
        "id": "wMQdYeUFrNY7"
      },
      "execution_count": null,
      "outputs": [
        {
          "output_type": "stream",
          "name": "stdout",
          "text": [
            "Epoch 1/5\n",
            "39/39 [==============================] - 12s 191ms/step - loss: 0.9368 - accuracy: 0.6873 - val_loss: 0.8803 - val_accuracy: 0.7251\n",
            "Epoch 2/5\n",
            "39/39 [==============================] - 7s 172ms/step - loss: 0.8590 - accuracy: 0.7211 - val_loss: 0.8283 - val_accuracy: 0.7347\n",
            "Epoch 3/5\n",
            "39/39 [==============================] - 6s 166ms/step - loss: 0.8254 - accuracy: 0.7243 - val_loss: 0.8064 - val_accuracy: 0.7347\n",
            "Epoch 4/5\n",
            "39/39 [==============================] - 6s 166ms/step - loss: 0.8100 - accuracy: 0.7243 - val_loss: 0.7946 - val_accuracy: 0.7347\n",
            "Epoch 5/5\n",
            "39/39 [==============================] - 7s 171ms/step - loss: 0.8005 - accuracy: 0.7247 - val_loss: 0.7867 - val_accuracy: 0.7347\n"
          ]
        }
      ]
    },
    {
      "cell_type": "code",
      "source": [
        "model.evaluate(X_test_indices, Y_test)"
      ],
      "metadata": {
        "colab": {
          "base_uri": "https://localhost:8080/"
        },
        "outputId": "a1919094-ad8c-4cd8-9afb-8ae0a4259702",
        "id": "mbyPp9bLrNY8"
      },
      "execution_count": null,
      "outputs": [
        {
          "output_type": "stream",
          "name": "stdout",
          "text": [
            "20/20 [==============================] - 1s 31ms/step - loss: 0.7867 - accuracy: 0.7347\n"
          ]
        },
        {
          "output_type": "execute_result",
          "data": {
            "text/plain": [
              "[0.7866632342338562, 0.7347266674041748]"
            ]
          },
          "metadata": {},
          "execution_count": 227
        }
      ]
    },
    {
      "cell_type": "code",
      "source": [
        "y_true_matrix = Y_test\n",
        "y_pred_matrix = model.predict(X_test_indices)\n",
        "\n",
        "report(history, y_true_matrix, y_pred_matrix)"
      ],
      "metadata": {
        "colab": {
          "base_uri": "https://localhost:8080/",
          "height": 755
        },
        "outputId": "1633776f-c0d0-4d5b-a3c4-02db5b5dcebd",
        "id": "tE8uXUIxrNY8"
      },
      "execution_count": null,
      "outputs": [
        {
          "output_type": "display_data",
          "data": {
            "text/plain": [
              "<Figure size 432x288 with 1 Axes>"
            ],
            "image/png": "[encoded data removed]"
          },
          "metadata": {
            "needs_background": "light"
          }
        },
        {
          "output_type": "display_data",
          "data": {
            "text/plain": [
              "<Figure size 432x288 with 1 Axes>"
            ],
            "image/png": "[encoded data removed]"
          },
          "metadata": {
            "needs_background": "light"
          }
        },
        {
          "output_type": "stream",
          "name": "stdout",
          "text": [
            "accuracy_score is  73.47%\n",
            "balanced_accuracy_score is  33.33%\n",
            "f1_score is  62.24%\n",
            "roc_auc_score is  46.69%\n",
            "recall_score is  73.47%\n",
            "precision_score is  53.98%\n",
            "\n"
          ]
        },
        {
          "output_type": "stream",
          "name": "stderr",
          "text": [
            "/usr/local/lib/python3.7/dist-packages/sklearn/metrics/_classification.py:1318: UndefinedMetricWarning: Precision is ill-defined and being set to 0.0 in labels with no predicted samples. Use `zero_division` parameter to control this behavior.\n",
            "  _warn_prf(average, modifier, msg_start, len(result))\n"
          ]
        }
      ]
    },
    {
      "cell_type": "markdown",
      "source": [
        "# sideEffects"
      ],
      "metadata": {
        "id": "U3-hf7uqsWSa"
      }
    },
    {
      "cell_type": "code",
      "source": [
        "np.unique(sideEffects)"
      ],
      "metadata": {
        "colab": {
          "base_uri": "https://localhost:8080/"
        },
        "outputId": "19ad092b-33b1-4db0-e80a-9f2ccd5b070d",
        "id": "Mfb2EFv0sWSc"
      },
      "execution_count": null,
      "outputs": [
        {
          "output_type": "execute_result",
          "data": {
            "text/plain": [
              "array(['Extremely Severe Side Effects', 'Mild Side Effects',\n",
              "       'Moderate Side Effects', 'No Side Effects', 'Severe Side Effects'],\n",
              "      dtype='<U29')"
            ]
          },
          "metadata": {},
          "execution_count": 187
        }
      ]
    },
    {
      "cell_type": "code",
      "source": [
        "two = ['Extremely Severe Side Effects', 'Severe Side Effects']\n",
        "one = ['Moderate Side Effects', 'Mild Side Effects']\n",
        "zero = ['No Side Effects']\n",
        "\n",
        "sideEffects = mapping(sideEffects, two, one, zero)\n",
        "train_un = np.unique(sideEffects)\n",
        "train_un"
      ],
      "metadata": {
        "colab": {
          "base_uri": "https://localhost:8080/"
        },
        "outputId": "e443b4b1-614d-4776-beee-854b7db6f6ee",
        "id": "U85XqiQpsWSd"
      },
      "execution_count": null,
      "outputs": [
        {
          "output_type": "execute_result",
          "data": {
            "text/plain": [
              "array([0, 1, 2])"
            ]
          },
          "metadata": {},
          "execution_count": 188
        }
      ]
    },
    {
      "cell_type": "code",
      "source": [
        "from sklearn.preprocessing import label_binarize\n",
        "ya = label_binarize(sideEffects, classes=train_un)\n",
        "ya.shape"
      ],
      "metadata": {
        "colab": {
          "base_uri": "https://localhost:8080/"
        },
        "outputId": "599a4104-adb3-49ba-ca63-bd48e17e3b34",
        "id": "xKA0vVpTsWSe"
      },
      "execution_count": null,
      "outputs": [
        {
          "output_type": "execute_result",
          "data": {
            "text/plain": [
              "(3107, 3)"
            ]
          },
          "metadata": {},
          "execution_count": 189
        }
      ]
    },
    {
      "cell_type": "code",
      "source": [
        "X_train, X_test, Y_train, Y_test = train_test_split(reviews_list, ya, test_size=0.2, random_state = 45)"
      ],
      "metadata": {
        "id": "Y5vEiqufsWSf"
      },
      "execution_count": null,
      "outputs": []
    },
    {
      "cell_type": "code",
      "source": [
        "tokenizer = Tokenizer(num_words=5000)\n",
        "tokenizer.fit_on_texts(X_train)\n",
        "\n",
        "words_to_index = tokenizer.word_index\n",
        "len(words_to_index)"
      ],
      "metadata": {
        "colab": {
          "base_uri": "https://localhost:8080/"
        },
        "outputId": "e3b7128e-2d5a-44a1-8c71-11e616a2a4f5",
        "id": "0mU9NgHvsWSg"
      },
      "execution_count": null,
      "outputs": [
        {
          "output_type": "execute_result",
          "data": {
            "text/plain": [
              "17894"
            ]
          },
          "metadata": {},
          "execution_count": 191
        }
      ]
    },
    {
      "cell_type": "code",
      "source": [
        "vocab_len = len(words_to_index)\n",
        "embed_vector_len = word_to_vec_map['moon'].shape[0]\n",
        "\n",
        "emb_matrix = np.zeros((vocab_len, embed_vector_len))\n",
        "\n",
        "for word, index in words_to_index.items():\n",
        "  embedding_vector = word_to_vec_map.get(word)\n",
        "  if embedding_vector is not None:\n",
        "    emb_matrix[index-1, :] = embedding_vector\n",
        "\n",
        "embedding_layer = Embedding(input_dim=vocab_len, output_dim=embed_vector_len, input_length=MAX_SIZE, weights = [emb_matrix], trainable=False)"
      ],
      "metadata": {
        "id": "evlihuVPsWSh"
      },
      "execution_count": null,
      "outputs": []
    },
    {
      "cell_type": "markdown",
      "source": [
        "# **LSTM**"
      ],
      "metadata": {
        "id": "wG0XVNYYs7Q4"
      }
    },
    {
      "cell_type": "code",
      "metadata": {
        "colab": {
          "base_uri": "https://localhost:8080/"
        },
        "outputId": "e7eb346b-5bea-4846-eca5-611b1626aa4d",
        "id": "j7wRHCp7s7RV"
      },
      "source": [
        "model = lstm(vocab_len, emb_matrix)\n",
        "model.summary()"
      ],
      "execution_count": null,
      "outputs": [
        {
          "output_type": "stream",
          "name": "stdout",
          "text": [
            "Model: \"sequential_16\"\n",
            "_________________________________________________________________\n",
            " Layer (type)                Output Shape              Param #   \n",
            "=================================================================\n",
            " embedding_16 (Embedding)    (None, None, 100)         1789400   \n",
            "                                                                 \n",
            " lstm_9 (LSTM)               (None, 64)                42240     \n",
            "                                                                 \n",
            " dense_28 (Dense)            (None, 64)                4160      \n",
            "                                                                 \n",
            " dense_29 (Dense)            (None, 3)                 195       \n",
            "                                                                 \n",
            "=================================================================\n",
            "Total params: 1,835,995\n",
            "Trainable params: 46,595\n",
            "Non-trainable params: 1,789,400\n",
            "_________________________________________________________________\n"
          ]
        }
      ]
    },
    {
      "cell_type": "code",
      "metadata": {
        "id": "uCoN67UWs7RV"
      },
      "source": [
        "X_train_indices = tokenizer.texts_to_sequences(X_train)\n",
        "X_train_indices = pad_sequences(X_train_indices, maxlen=MAX_SIZE, padding='post')\n",
        "\n",
        "X_test_indices = tokenizer.texts_to_sequences(X_test)\n",
        "X_test_indices = pad_sequences(X_test_indices, maxlen=MAX_SIZE, padding='post')"
      ],
      "execution_count": null,
      "outputs": []
    },
    {
      "cell_type": "code",
      "metadata": {
        "colab": {
          "base_uri": "https://localhost:8080/"
        },
        "outputId": "832e05a5-8731-4d15-c79d-75ad6c5525d9",
        "id": "pivfkW_Ds7RW"
      },
      "source": [
        "history = model.fit(X_train_indices, Y_train, batch_size=64, epochs=5, validation_data=(X_test_indices, Y_test))"
      ],
      "execution_count": null,
      "outputs": [
        {
          "output_type": "stream",
          "name": "stdout",
          "text": [
            "Epoch 1/5\n",
            "39/39 [==============================] - 23s 514ms/step - loss: 1.1493 - accuracy: 0.2241 - val_loss: 1.1216 - val_accuracy: 0.2653\n",
            "Epoch 2/5\n",
            "39/39 [==============================] - 16s 401ms/step - loss: 1.1025 - accuracy: 0.3123 - val_loss: 1.0880 - val_accuracy: 0.3891\n",
            "Epoch 3/5\n",
            "39/39 [==============================] - 15s 396ms/step - loss: 1.0741 - accuracy: 0.4414 - val_loss: 1.0670 - val_accuracy: 0.4695\n",
            "Epoch 4/5\n",
            "39/39 [==============================] - 16s 415ms/step - loss: 1.0534 - accuracy: 0.5042 - val_loss: 1.0530 - val_accuracy: 0.4936\n",
            "Epoch 5/5\n",
            "39/39 [==============================] - 15s 395ms/step - loss: 1.0403 - accuracy: 0.5211 - val_loss: 1.0438 - val_accuracy: 0.5048\n"
          ]
        }
      ]
    },
    {
      "cell_type": "code",
      "metadata": {
        "colab": {
          "base_uri": "https://localhost:8080/"
        },
        "outputId": "5097bd36-1a0b-43b7-ba6d-34d9a202736d",
        "id": "82Z2nmWWs7RW"
      },
      "source": [
        "X_test_indices = tokenizer.texts_to_sequences(X_test)\n",
        "X_test_indices = pad_sequences(X_test_indices, maxlen=MAX_SIZE, padding='post')\n",
        "\n",
        "model.evaluate(X_test_indices, Y_test)"
      ],
      "execution_count": null,
      "outputs": [
        {
          "output_type": "stream",
          "name": "stdout",
          "text": [
            "20/20 [==============================] - 1s 50ms/step - loss: 1.0438 - accuracy: 0.5048\n"
          ]
        },
        {
          "output_type": "execute_result",
          "data": {
            "text/plain": [
              "[1.0437591075897217, 0.5048231482505798]"
            ]
          },
          "metadata": {},
          "execution_count": 196
        }
      ]
    },
    {
      "cell_type": "code",
      "source": [
        "y_true_matrix = Y_test\n",
        "y_pred_matrix = model.predict(X_test_indices)\n",
        "\n",
        "report(history, y_true_matrix, y_pred_matrix)"
      ],
      "metadata": {
        "colab": {
          "base_uri": "https://localhost:8080/",
          "height": 700
        },
        "outputId": "2dbe0f7c-32ff-4e8f-f29d-3688c96c5d94",
        "id": "K9l4RfO9s7RW"
      },
      "execution_count": null,
      "outputs": [
        {
          "output_type": "display_data",
          "data": {
            "text/plain": [
              "<Figure size 432x288 with 1 Axes>"
            ],
            "image/png": "[encoded data removed]"
          },
          "metadata": {
            "needs_background": "light"
          }
        },
        {
          "output_type": "display_data",
          "data": {
            "text/plain": [
              "<Figure size 432x288 with 1 Axes>"
            ],
            "image/png": "[encoded data removed]"
          },
          "metadata": {
            "needs_background": "light"
          }
        },
        {
          "output_type": "stream",
          "name": "stdout",
          "text": [
            "accuracy_score is  50.48%\n",
            "balanced_accuracy_score is  33.19%\n",
            "f1_score is  34.44%\n",
            "roc_auc_score is  46.28%\n",
            "recall_score is  50.48%\n",
            "precision_score is  32.18%\n",
            "\n"
          ]
        }
      ]
    },
    {
      "cell_type": "markdown",
      "source": [
        "# **Simple RNN**"
      ],
      "metadata": {
        "id": "est5Er3Zs7RX"
      }
    },
    {
      "cell_type": "code",
      "source": [
        "model = rnn()\n",
        "model.summary()"
      ],
      "metadata": {
        "colab": {
          "base_uri": "https://localhost:8080/"
        },
        "outputId": "64b1675b-fd56-4691-832e-5d64b6f0e48a",
        "id": "8hb6LMG0s7RX"
      },
      "execution_count": null,
      "outputs": [
        {
          "output_type": "stream",
          "name": "stdout",
          "text": [
            "Model: \"sequential_17\"\n",
            "_________________________________________________________________\n",
            " Layer (type)                Output Shape              Param #   \n",
            "=================================================================\n",
            " embedding_15 (Embedding)    (None, 200, 100)          1789400   \n",
            "                                                                 \n",
            " simple_rnn_4 (SimpleRNN)    (None, 32)                4256      \n",
            "                                                                 \n",
            " dense_30 (Dense)            (None, 10)                330       \n",
            "                                                                 \n",
            " dense_31 (Dense)            (None, 3)                 33        \n",
            "                                                                 \n",
            "=================================================================\n",
            "Total params: 1,794,019\n",
            "Trainable params: 4,619\n",
            "Non-trainable params: 1,789,400\n",
            "_________________________________________________________________\n"
          ]
        }
      ]
    },
    {
      "cell_type": "code",
      "source": [
        "history = model.fit(X_train_indices, Y_train, batch_size=64, epochs=5, validation_data=(X_test_indices, Y_test))"
      ],
      "metadata": {
        "colab": {
          "base_uri": "https://localhost:8080/"
        },
        "outputId": "c45f25f6-b3fb-421b-dcee-87dc3b393c30",
        "id": "-hPWPlLOs7RX"
      },
      "execution_count": null,
      "outputs": [
        {
          "output_type": "stream",
          "name": "stdout",
          "text": [
            "Epoch 1/5\n",
            "39/39 [==============================] - 3s 54ms/step - loss: 1.1123 - accuracy: 0.1807 - val_loss: 1.1135 - val_accuracy: 0.1785\n",
            "Epoch 2/5\n",
            "39/39 [==============================] - 2s 44ms/step - loss: 1.1060 - accuracy: 0.4298 - val_loss: 1.1075 - val_accuracy: 0.4727\n",
            "Epoch 3/5\n",
            "39/39 [==============================] - 2s 45ms/step - loss: 1.1017 - accuracy: 0.4994 - val_loss: 1.1049 - val_accuracy: 0.4727\n",
            "Epoch 4/5\n",
            "39/39 [==============================] - 2s 44ms/step - loss: 1.0989 - accuracy: 0.4994 - val_loss: 1.1023 - val_accuracy: 0.4759\n",
            "Epoch 5/5\n",
            "39/39 [==============================] - 2s 45ms/step - loss: 1.0961 - accuracy: 0.5002 - val_loss: 1.0998 - val_accuracy: 0.4759\n"
          ]
        }
      ]
    },
    {
      "cell_type": "code",
      "source": [
        "model.evaluate(X_test_indices, Y_test)"
      ],
      "metadata": {
        "colab": {
          "base_uri": "https://localhost:8080/"
        },
        "outputId": "94f0ce28-ff8e-49aa-8740-8ecceed85930",
        "id": "FRoBfeCls7RX"
      },
      "execution_count": null,
      "outputs": [
        {
          "output_type": "stream",
          "name": "stdout",
          "text": [
            "20/20 [==============================] - 0s 12ms/step - loss: 1.0998 - accuracy: 0.4759\n"
          ]
        },
        {
          "output_type": "execute_result",
          "data": {
            "text/plain": [
              "[1.099819540977478, 0.47588425874710083]"
            ]
          },
          "metadata": {},
          "execution_count": 200
        }
      ]
    },
    {
      "cell_type": "code",
      "source": [
        "y_true_matrix = Y_test\n",
        "y_pred_matrix = model.predict(X_test_indices)\n",
        "\n",
        "report(history, y_true_matrix, y_pred_matrix)"
      ],
      "metadata": {
        "colab": {
          "base_uri": "https://localhost:8080/",
          "height": 700
        },
        "outputId": "88710391-85bf-46f6-a690-cd4bd7f0191c",
        "id": "AGFMU8yas7RY"
      },
      "execution_count": null,
      "outputs": [
        {
          "output_type": "display_data",
          "data": {
            "text/plain": [
              "<Figure size 432x288 with 1 Axes>"
            ],
            "image/png": "[encoded data removed]"
          },
          "metadata": {
            "needs_background": "light"
          }
        },
        {
          "output_type": "display_data",
          "data": {
            "text/plain": [
              "<Figure size 432x288 with 1 Axes>"
            ],
            "image/png": "[encoded data removed]"
          },
          "metadata": {
            "needs_background": "light"
          }
        },
        {
          "output_type": "stream",
          "name": "stdout",
          "text": [
            "accuracy_score is  47.59%\n",
            "balanced_accuracy_score is  32.41%\n",
            "f1_score is  35.57%\n",
            "roc_auc_score is  48.68%\n",
            "recall_score is  47.59%\n",
            "precision_score is  34.81%\n",
            "\n"
          ]
        }
      ]
    },
    {
      "cell_type": "markdown",
      "source": [
        "# **GRU**"
      ],
      "metadata": {
        "id": "8avvK1rns7RY"
      }
    },
    {
      "cell_type": "code",
      "source": [
        "model = gru()\n",
        "model.summary()"
      ],
      "metadata": {
        "colab": {
          "base_uri": "https://localhost:8080/"
        },
        "outputId": "4cae78ae-e2f7-4ae6-8128-4e3ee3b21991",
        "id": "iPY8bj-ys7RY"
      },
      "execution_count": null,
      "outputs": [
        {
          "output_type": "stream",
          "name": "stdout",
          "text": [
            "Model: \"sequential_18\"\n",
            "_________________________________________________________________\n",
            " Layer (type)                Output Shape              Param #   \n",
            "=================================================================\n",
            " embedding_15 (Embedding)    (None, 200, 100)          1789400   \n",
            "                                                                 \n",
            " bidirectional_1 (Bidirectio  (None, 64)               25728     \n",
            " nal)                                                            \n",
            "                                                                 \n",
            " dense_32 (Dense)            (None, 10)                650       \n",
            "                                                                 \n",
            " dense_33 (Dense)            (None, 3)                 33        \n",
            "                                                                 \n",
            "=================================================================\n",
            "Total params: 1,815,811\n",
            "Trainable params: 26,411\n",
            "Non-trainable params: 1,789,400\n",
            "_________________________________________________________________\n"
          ]
        }
      ]
    },
    {
      "cell_type": "code",
      "source": [
        "history = model.fit(X_train_indices, Y_train, batch_size=64, epochs=5, validation_data=(X_test_indices, Y_test))"
      ],
      "metadata": {
        "colab": {
          "base_uri": "https://localhost:8080/"
        },
        "outputId": "c29f4c6d-bfa3-4cac-bae6-2b48d7dd6c2e",
        "id": "ZOlVRXXOs7RY"
      },
      "execution_count": null,
      "outputs": [
        {
          "output_type": "stream",
          "name": "stdout",
          "text": [
            "Epoch 1/5\n",
            "39/39 [==============================] - 11s 192ms/step - loss: 1.3646 - accuracy: 0.2797 - val_loss: 1.2189 - val_accuracy: 0.2894\n",
            "Epoch 2/5\n",
            "39/39 [==============================] - 10s 262ms/step - loss: 1.1669 - accuracy: 0.2829 - val_loss: 1.1196 - val_accuracy: 0.3087\n",
            "Epoch 3/5\n",
            "39/39 [==============================] - 6s 167ms/step - loss: 1.0928 - accuracy: 0.3549 - val_loss: 1.0788 - val_accuracy: 0.3746\n",
            "Epoch 4/5\n",
            "39/39 [==============================] - 7s 167ms/step - loss: 1.0595 - accuracy: 0.4390 - val_loss: 1.0599 - val_accuracy: 0.4469\n",
            "Epoch 5/5\n",
            "39/39 [==============================] - 7s 184ms/step - loss: 1.0438 - accuracy: 0.4841 - val_loss: 1.0504 - val_accuracy: 0.4695\n"
          ]
        }
      ]
    },
    {
      "cell_type": "code",
      "source": [
        "model.evaluate(X_test_indices, Y_test)"
      ],
      "metadata": {
        "colab": {
          "base_uri": "https://localhost:8080/"
        },
        "outputId": "2b380470-9667-4b26-d980-97b24d893b0e",
        "id": "-6wEZSiHs7RZ"
      },
      "execution_count": null,
      "outputs": [
        {
          "output_type": "stream",
          "name": "stdout",
          "text": [
            "20/20 [==============================] - 1s 28ms/step - loss: 1.0504 - accuracy: 0.4695\n"
          ]
        },
        {
          "output_type": "execute_result",
          "data": {
            "text/plain": [
              "[1.0503815412521362, 0.469453364610672]"
            ]
          },
          "metadata": {},
          "execution_count": 204
        }
      ]
    },
    {
      "cell_type": "code",
      "source": [
        "y_true_matrix = Y_test\n",
        "y_pred_matrix = model.predict(X_test_indices)\n",
        "\n",
        "report(history, y_true_matrix, y_pred_matrix)"
      ],
      "metadata": {
        "colab": {
          "base_uri": "https://localhost:8080/",
          "height": 700
        },
        "outputId": "757ccf7a-785a-40f0-8a69-f0ca4e9e0894",
        "id": "6jsvoArbs7RZ"
      },
      "execution_count": null,
      "outputs": [
        {
          "output_type": "display_data",
          "data": {
            "text/plain": [
              "<Figure size 432x288 with 1 Axes>"
            ],
            "image/png": "[encoded data removed]"
          },
          "metadata": {
            "needs_background": "light"
          }
        },
        {
          "output_type": "display_data",
          "data": {
            "text/plain": [
              "<Figure size 432x288 with 1 Axes>"
            ],
            "image/png": "[encoded data removed]"
          },
          "metadata": {
            "needs_background": "light"
          }
        },
        {
          "output_type": "stream",
          "name": "stdout",
          "text": [
            "accuracy_score is  46.95%\n",
            "balanced_accuracy_score is  31.90%\n",
            "f1_score is  35.78%\n",
            "roc_auc_score is  46.01%\n",
            "recall_score is  46.95%\n",
            "precision_score is  38.28%\n",
            "\n"
          ]
        }
      ]
    },
    {
      "cell_type": "markdown",
      "source": [
        "З результатів, отриманих в ході виконання лабораторної роботи, можна зробити висновок, що найефективнішими моделями для рейтингу виявились LSTM та GRU, при чому їхні точності практично однакові. Щодо ефектифності, то тут вже не було розбіжностей — усі моделі ефективні. З побічними ефектами картина зовсім інша, ніж з ефективністю. Тут найефективнішою є LSTM модель. \n",
        "\n",
        "\n"
      ],
      "metadata": {
        "id": "_HUA1VHlwTPC"
      }
    }
  ]
}