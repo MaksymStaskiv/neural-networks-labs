{
  "nbformat": 4,
  "nbformat_minor": 0,
  "metadata": {
    "colab": {
      "provenance": []
    },
    "kernelspec": {
      "name": "python3",
      "display_name": "Python 3"
    },
    "language_info": {
      "name": "python"
    }
  },
  "cells": [
    {
      "cell_type": "code",
      "execution_count": null,
      "metadata": {
        "id": "vIYM_a-Vo6VO"
      },
      "outputs": [],
      "source": [
        "  import pandas as pd\n",
        "import numpy as np"
      ]
    },
    {
      "cell_type": "code",
      "source": [
        "path = '/content/TAIT.csv'\n",
        "df = pd.read_csv(path)"
      ],
      "metadata": {
        "id": "1DQDcUE2pror"
      },
      "execution_count": null,
      "outputs": []
    },
    {
      "cell_type": "code",
      "source": [
        "df.head()"
      ],
      "metadata": {
        "colab": {
          "base_uri": "https://localhost:8080/",
          "height": 206
        },
        "id": "jl06HCDfqsCM",
        "outputId": "1c94d6e7-d064-442b-ec86-8f4d1160b070"
      },
      "execution_count": null,
      "outputs": [
        {
          "output_type": "execute_result",
          "data": {
            "text/plain": [
              "         Date   Open   High    Low  Close  Adj Close  Volume\n",
              "0  1995-04-19  7.250  7.500  6.000  7.375   5.021836  364100\n",
              "1  1995-04-20  7.625  8.500  6.625  7.750   5.277184  353700\n",
              "2  1995-04-21  8.000  8.250  7.500  7.500   5.106952  179800\n",
              "3  1995-04-24  7.500  8.250  7.000  7.500   5.106952   77300\n",
              "4  1995-04-25  8.125  8.125  7.250  7.250   4.936720  101800"
            ],
            "text/html": [
              "\n",
              "  <div id=\"df-d838d240-31d5-455e-a988-330fce34e6f2\">\n",
              "    <div class=\"colab-df-container\">\n",
              "      <div>\n",
              "<style scoped>\n",
              "    .dataframe tbody tr th:only-of-type {\n",
              "        vertical-align: middle;\n",
              "    }\n",
              "\n",
              "    .dataframe tbody tr th {\n",
              "        vertical-align: top;\n",
              "    }\n",
              "\n",
              "    .dataframe thead th {\n",
              "        text-align: right;\n",
              "    }\n",
              "</style>\n",
              "<table border=\"1\" class=\"dataframe\">\n",
              "  <thead>\n",
              "    <tr style=\"text-align: right;\">\n",
              "      <th></th>\n",
              "      <th>Date</th>\n",
              "      <th>Open</th>\n",
              "      <th>High</th>\n",
              "      <th>Low</th>\n",
              "      <th>Close</th>\n",
              "      <th>Adj Close</th>\n",
              "      <th>Volume</th>\n",
              "    </tr>\n",
              "  </thead>\n",
              "  <tbody>\n",
              "    <tr>\n",
              "      <th>0</th>\n",
              "      <td>1995-04-19</td>\n",
              "      <td>7.250</td>\n",
              "      <td>7.500</td>\n",
              "      <td>6.000</td>\n",
              "      <td>7.375</td>\n",
              "      <td>5.021836</td>\n",
              "      <td>364100</td>\n",
              "    </tr>\n",
              "    <tr>\n",
              "      <th>1</th>\n",
              "      <td>1995-04-20</td>\n",
              "      <td>7.625</td>\n",
              "      <td>8.500</td>\n",
              "      <td>6.625</td>\n",
              "      <td>7.750</td>\n",
              "      <td>5.277184</td>\n",
              "      <td>353700</td>\n",
              "    </tr>\n",
              "    <tr>\n",
              "      <th>2</th>\n",
              "      <td>1995-04-21</td>\n",
              "      <td>8.000</td>\n",
              "      <td>8.250</td>\n",
              "      <td>7.500</td>\n",
              "      <td>7.500</td>\n",
              "      <td>5.106952</td>\n",
              "      <td>179800</td>\n",
              "    </tr>\n",
              "    <tr>\n",
              "      <th>3</th>\n",
              "      <td>1995-04-24</td>\n",
              "      <td>7.500</td>\n",
              "      <td>8.250</td>\n",
              "      <td>7.000</td>\n",
              "      <td>7.500</td>\n",
              "      <td>5.106952</td>\n",
              "      <td>77300</td>\n",
              "    </tr>\n",
              "    <tr>\n",
              "      <th>4</th>\n",
              "      <td>1995-04-25</td>\n",
              "      <td>8.125</td>\n",
              "      <td>8.125</td>\n",
              "      <td>7.250</td>\n",
              "      <td>7.250</td>\n",
              "      <td>4.936720</td>\n",
              "      <td>101800</td>\n",
              "    </tr>\n",
              "  </tbody>\n",
              "</table>\n",
              "</div>\n",
              "      <button class=\"colab-df-convert\" onclick=\"convertToInteractive('df-d838d240-31d5-455e-a988-330fce34e6f2')\"\n",
              "              title=\"Convert this dataframe to an interactive table.\"\n",
              "              style=\"display:none;\">\n",
              "        \n",
              "  <svg xmlns=\"http://www.w3.org/2000/svg\" height=\"24px\"viewBox=\"0 0 24 24\"\n",
              "       width=\"24px\">\n",
              "    <path d=\"M0 0h24v24H0V0z\" fill=\"none\"/>\n",
              "    <path d=\"M18.56 5.44l.94 2.06.94-2.06 2.06-.94-2.06-.94-.94-2.06-.94 2.06-2.06.94zm-11 1L8.5 8.5l.94-2.06 2.06-.94-2.06-.94L8.5 2.5l-.94 2.06-2.06.94zm10 10l.94 2.06.94-2.06 2.06-.94-2.06-.94-.94-2.06-.94 2.06-2.06.94z\"/><path d=\"M17.41 7.96l-1.37-1.37c-.4-.4-.92-.59-1.43-.59-.52 0-1.04.2-1.43.59L10.3 9.45l-7.72 7.72c-.78.78-.78 2.05 0 2.83L4 21.41c.39.39.9.59 1.41.59.51 0 1.02-.2 1.41-.59l7.78-7.78 2.81-2.81c.8-.78.8-2.07 0-2.86zM5.41 20L4 18.59l7.72-7.72 1.47 1.35L5.41 20z\"/>\n",
              "  </svg>\n",
              "      </button>\n",
              "      \n",
              "  <style>\n",
              "    .colab-df-container {\n",
              "      display:flex;\n",
              "      flex-wrap:wrap;\n",
              "      gap: 12px;\n",
              "    }\n",
              "\n",
              "    .colab-df-convert {\n",
              "      background-color: #E8F0FE;\n",
              "      border: none;\n",
              "      border-radius: 50%;\n",
              "      cursor: pointer;\n",
              "      display: none;\n",
              "      fill: #1967D2;\n",
              "      height: 32px;\n",
              "      padding: 0 0 0 0;\n",
              "      width: 32px;\n",
              "    }\n",
              "\n",
              "    .colab-df-convert:hover {\n",
              "      background-color: #E2EBFA;\n",
              "      box-shadow: 0px 1px 2px rgba(60, 64, 67, 0.3), 0px 1px 3px 1px rgba(60, 64, 67, 0.15);\n",
              "      fill: #174EA6;\n",
              "    }\n",
              "\n",
              "    [theme=dark] .colab-df-convert {\n",
              "      background-color: #3B4455;\n",
              "      fill: #D2E3FC;\n",
              "    }\n",
              "\n",
              "    [theme=dark] .colab-df-convert:hover {\n",
              "      background-color: #434B5C;\n",
              "      box-shadow: 0px 1px 3px 1px rgba(0, 0, 0, 0.15);\n",
              "      filter: drop-shadow(0px 1px 2px rgba(0, 0, 0, 0.3));\n",
              "      fill: #FFFFFF;\n",
              "    }\n",
              "  </style>\n",
              "\n",
              "      <script>\n",
              "        const buttonEl =\n",
              "          document.querySelector('#df-d838d240-31d5-455e-a988-330fce34e6f2 button.colab-df-convert');\n",
              "        buttonEl.style.display =\n",
              "          google.colab.kernel.accessAllowed ? 'block' : 'none';\n",
              "\n",
              "        async function convertToInteractive(key) {\n",
              "          const element = document.querySelector('#df-d838d240-31d5-455e-a988-330fce34e6f2');\n",
              "          const dataTable =\n",
              "            await google.colab.kernel.invokeFunction('convertToInteractive',\n",
              "                                                     [key], {});\n",
              "          if (!dataTable) return;\n",
              "\n",
              "          const docLinkHtml = 'Like what you see? Visit the ' +\n",
              "            '<a target=\"_blank\" href=https://colab.research.google.com/notebooks/data_table.ipynb>data table notebook</a>'\n",
              "            + ' to learn more about interactive tables.';\n",
              "          element.innerHTML = '';\n",
              "          dataTable['output_type'] = 'display_data';\n",
              "          await google.colab.output.renderOutput(dataTable, element);\n",
              "          const docLink = document.createElement('div');\n",
              "          docLink.innerHTML = docLinkHtml;\n",
              "          element.appendChild(docLink);\n",
              "        }\n",
              "      </script>\n",
              "    </div>\n",
              "  </div>\n",
              "  "
            ]
          },
          "metadata": {},
          "execution_count": 7
        }
      ]
    },
    {
      "cell_type": "code",
      "source": [
        "df.info(verbose=True)"
      ],
      "metadata": {
        "colab": {
          "base_uri": "https://localhost:8080/"
        },
        "id": "XelRbMp9sC7L",
        "outputId": "ab246571-46f6-42de-8cc9-347a2be6c9ba"
      },
      "execution_count": null,
      "outputs": [
        {
          "output_type": "stream",
          "name": "stdout",
          "text": [
            "<class 'pandas.core.frame.DataFrame'>\n",
            "RangeIndex: 6283 entries, 0 to 6282\n",
            "Data columns (total 7 columns):\n",
            " #   Column     Non-Null Count  Dtype  \n",
            "---  ------     --------------  -----  \n",
            " 0   Date       6283 non-null   object \n",
            " 1   Open       6283 non-null   float64\n",
            " 2   High       6283 non-null   float64\n",
            " 3   Low        6283 non-null   float64\n",
            " 4   Close      6283 non-null   float64\n",
            " 5   Adj Close  6283 non-null   float64\n",
            " 6   Volume     6283 non-null   int64  \n",
            "dtypes: float64(5), int64(1), object(1)\n",
            "memory usage: 343.7+ KB\n"
          ]
        }
      ]
    },
    {
      "cell_type": "code",
      "source": [
        "df.shape"
      ],
      "metadata": {
        "colab": {
          "base_uri": "https://localhost:8080/"
        },
        "id": "E22zRueiqsJy",
        "outputId": "fe67c265-8a82-43fb-9fed-0551534194c6"
      },
      "execution_count": null,
      "outputs": [
        {
          "output_type": "execute_result",
          "data": {
            "text/plain": [
              "(6283, 7)"
            ]
          },
          "metadata": {},
          "execution_count": 9
        }
      ]
    },
    {
      "cell_type": "code",
      "source": [
        "df.isnull().any().any() "
      ],
      "metadata": {
        "colab": {
          "base_uri": "https://localhost:8080/"
        },
        "id": "b0awQ4aAtIQy",
        "outputId": "261cbb52-46dc-43df-981d-1fbe9993afaf"
      },
      "execution_count": null,
      "outputs": [
        {
          "output_type": "execute_result",
          "data": {
            "text/plain": [
              "False"
            ]
          },
          "metadata": {},
          "execution_count": 10
        }
      ]
    },
    {
      "cell_type": "code",
      "source": [
        "df.isnull().any()"
      ],
      "metadata": {
        "colab": {
          "base_uri": "https://localhost:8080/"
        },
        "id": "Frd2iN3BtMax",
        "outputId": "9bfef628-5e9c-4686-89bc-0ea8116071f8"
      },
      "execution_count": null,
      "outputs": [
        {
          "output_type": "execute_result",
          "data": {
            "text/plain": [
              "Date         False\n",
              "Open         False\n",
              "High         False\n",
              "Low          False\n",
              "Close        False\n",
              "Adj Close    False\n",
              "Volume       False\n",
              "dtype: bool"
            ]
          },
          "metadata": {},
          "execution_count": 11
        }
      ]
    },
    {
      "cell_type": "code",
      "source": [
        "dc = df[\"Close\"]"
      ],
      "metadata": {
        "id": "T5SC1Pdcq0dY"
      },
      "execution_count": null,
      "outputs": []
    },
    {
      "cell_type": "code",
      "source": [
        "dc.shape"
      ],
      "metadata": {
        "colab": {
          "base_uri": "https://localhost:8080/"
        },
        "id": "QYYOUqndq3a_",
        "outputId": "ee6db7cf-1a55-4fca-ca58-3a3e41de0fd4"
      },
      "execution_count": null,
      "outputs": [
        {
          "output_type": "execute_result",
          "data": {
            "text/plain": [
              "(6283,)"
            ]
          },
          "metadata": {},
          "execution_count": 13
        }
      ]
    },
    {
      "cell_type": "code",
      "source": [
        "import seaborn as sns\n",
        "import  matplotlib.pyplot as plt\n",
        "%matplotlib inline\n",
        "\n",
        "sns.lineplot(x=df.Date[:2000],y=df.Close[:2000])"
      ],
      "metadata": {
        "id": "s7vw0nrKq8au",
        "colab": {
          "base_uri": "https://localhost:8080/",
          "height": 296
        },
        "outputId": "f2343d54-5dd2-463e-9ad2-9313627c5ac3"
      },
      "execution_count": null,
      "outputs": [
        {
          "output_type": "execute_result",
          "data": {
            "text/plain": [
              "<matplotlib.axes._subplots.AxesSubplot at 0x7ff2985f2a90>"
            ]
          },
          "metadata": {},
          "execution_count": 14
        },
        {
          "output_type": "display_data",
          "data": {
            "text/plain": [
              "<Figure size 432x288 with 1 Axes>"
            ],
            "image/png": "[encoded data removed]"
          },
          "metadata": {
            "needs_background": "light"
          }
        }
      ]
    },
    {
      "cell_type": "code",
      "source": [
        "dc.head(10)"
      ],
      "metadata": {
        "colab": {
          "base_uri": "https://localhost:8080/"
        },
        "id": "GwRTl-eTpr3Q",
        "outputId": "e944da90-ef39-44a7-82f5-57604b41e79d"
      },
      "execution_count": null,
      "outputs": [
        {
          "output_type": "execute_result",
          "data": {
            "text/plain": [
              "0    7.375\n",
              "1    7.750\n",
              "2    7.500\n",
              "3    7.500\n",
              "4    7.250\n",
              "5    7.875\n",
              "6    8.250\n",
              "7    8.250\n",
              "8    8.250\n",
              "9    7.500\n",
              "Name: Close, dtype: float64"
            ]
          },
          "metadata": {},
          "execution_count": 15
        }
      ]
    },
    {
      "cell_type": "code",
      "execution_count": null,
      "metadata": {
        "id": "9ddeeb44"
      },
      "outputs": [],
      "source": [
        "def walk_forward(col, in_sample_len):\n",
        "\t\ttrain = []\n",
        "\t\tvalid = []\n",
        "\n",
        "\t\tfor i in range(len(col)-in_sample_len-1):\n",
        "\t\t\t\tz = col[i: (i + in_sample_len)]    \n",
        "\n",
        "\t\t\t\ttrain.append(z) # in_sample 4\n",
        "\t\t\t\tvalid.append(col[i + in_sample_len]) # out of sample 1\n",
        "\t\t\n",
        "\t\treturn np.array(train), np.array(valid)"
      ]
    },
    {
      "cell_type": "code",
      "execution_count": null,
      "metadata": {
        "id": "4138ff3c"
      },
      "outputs": [],
      "source": [
        "X, y =  walk_forward(dc, 4)"
      ]
    },
    {
      "cell_type": "code",
      "source": [
        "import pandas as pd\n",
        "import numpy as np\n",
        "from sklearn.model_selection import train_test_split\n",
        "import matplotlib.pyplot as plt\n",
        "from tensorflow.keras.models import Sequential\n",
        "from tensorflow.keras import layers"
      ],
      "metadata": {
        "id": "9Fvdt1NNqNsQ"
      },
      "execution_count": null,
      "outputs": []
    },
    {
      "cell_type": "code",
      "execution_count": null,
      "metadata": {
        "id": "1ceaac42"
      },
      "outputs": [],
      "source": [
        "x_train, x_test, y_train, y_test = train_test_split(X, y, test_size=0.2, shuffle=False)"
      ]
    },
    {
      "cell_type": "code",
      "execution_count": null,
      "metadata": {
        "colab": {
          "base_uri": "https://localhost:8080/"
        },
        "id": "0ba5a32b",
        "outputId": "396f5da2-a472-41a2-a9fa-975f43f6e84a"
      },
      "outputs": [
        {
          "output_type": "execute_result",
          "data": {
            "text/plain": [
              "(5022, 4)"
            ]
          },
          "metadata": {},
          "execution_count": 20
        }
      ],
      "source": [
        "x_train.shape"
      ]
    },
    {
      "cell_type": "code",
      "source": [
        "x_train"
      ],
      "metadata": {
        "colab": {
          "base_uri": "https://localhost:8080/"
        },
        "id": "SY1lJ_95rd78",
        "outputId": "d588f298-251e-4b6f-de97-a31bb23acbe2"
      },
      "execution_count": null,
      "outputs": [
        {
          "output_type": "execute_result",
          "data": {
            "text/plain": [
              "array([[7.375     , 7.75      , 7.5       , 7.5       ],\n",
              "       [7.75      , 7.5       , 7.5       , 7.25      ],\n",
              "       [7.5       , 7.5       , 7.25      , 7.875     ],\n",
              "       ...,\n",
              "       [1.00999999, 1.        , 1.00999999, 1.        ],\n",
              "       [1.        , 1.00999999, 1.        , 0.99000001],\n",
              "       [1.00999999, 1.        , 0.99000001, 0.97000003]])"
            ]
          },
          "metadata": {},
          "execution_count": 21
        }
      ]
    },
    {
      "cell_type": "code",
      "source": [
        "y_train"
      ],
      "metadata": {
        "colab": {
          "base_uri": "https://localhost:8080/"
        },
        "id": "Gwg4OpzzreI9",
        "outputId": "cad57844-c222-4050-ec88-0c49b94511a9"
      },
      "execution_count": null,
      "outputs": [
        {
          "output_type": "execute_result",
          "data": {
            "text/plain": [
              "array([7.25      , 7.875     , 8.25      , ..., 0.99000001, 0.97000003,\n",
              "       0.97000003])"
            ]
          },
          "metadata": {},
          "execution_count": 22
        }
      ]
    },
    {
      "cell_type": "markdown",
      "metadata": {
        "id": "G2Ig25KLEWY3"
      },
      "source": [
        "## Linear Regression"
      ]
    },
    {
      "cell_type": "code",
      "execution_count": null,
      "metadata": {
        "id": "2641a10b",
        "colab": {
          "base_uri": "https://localhost:8080/"
        },
        "outputId": "8118266c-78b8-4416-c9c4-a46ec4cf6f2f"
      },
      "outputs": [
        {
          "output_type": "execute_result",
          "data": {
            "text/plain": [
              "LinearRegression()"
            ]
          },
          "metadata": {},
          "execution_count": 23
        }
      ],
      "source": [
        "import sklearn\n",
        "from sklearn.linear_model import LinearRegression\n",
        "lr = sklearn.linear_model.LinearRegression()\n",
        "lr.fit(x_train,y_train)"
      ]
    },
    {
      "cell_type": "code",
      "execution_count": null,
      "metadata": {
        "id": "5ed75a15"
      },
      "outputs": [],
      "source": [
        "y_pred = lr.predict(x_test)"
      ]
    },
    {
      "cell_type": "code",
      "execution_count": null,
      "metadata": {
        "colab": {
          "base_uri": "https://localhost:8080/",
          "height": 374
        },
        "id": "886638d3",
        "outputId": "538fe4f7-4483-45c0-cb1d-db7648988d51"
      },
      "outputs": [
        {
          "output_type": "display_data",
          "data": {
            "text/plain": [
              "<Figure size 576x432 with 1 Axes>"
            ],
            "image/png": "[encoded data removed]"
          },
          "metadata": {
            "needs_background": "light"
          }
        }
      ],
      "source": [
        "plt.figure(figsize=(8, 6))\n",
        "plt.plot(y_test, label='Actual')\n",
        "plt.plot(y_pred, label='Predicted')\n",
        "plt.legend()\n",
        "plt.show()"
      ]
    },
    {
      "cell_type": "markdown",
      "metadata": {
        "id": "cLSMrX6JKvrl"
      },
      "source": [
        "## Random Forest Regressor"
      ]
    },
    {
      "cell_type": "code",
      "execution_count": null,
      "metadata": {
        "id": "85818f0a"
      },
      "outputs": [],
      "source": [
        "from sklearn.ensemble import RandomForestRegressor\n",
        "randomForestRegressor = RandomForestRegressor(max_depth=7, random_state=7)"
      ]
    },
    {
      "cell_type": "code",
      "execution_count": null,
      "metadata": {
        "colab": {
          "base_uri": "https://localhost:8080/"
        },
        "id": "u5oPuT3Dzwcy",
        "outputId": "c927beed-c71d-47ad-9c14-7a479bb6c18d"
      },
      "outputs": [
        {
          "output_type": "execute_result",
          "data": {
            "text/plain": [
              "RandomForestRegressor(max_depth=7, random_state=7)"
            ]
          },
          "metadata": {},
          "execution_count": 27
        }
      ],
      "source": [
        "randomForestRegressor.fit(x_train,y_train)"
      ]
    },
    {
      "cell_type": "code",
      "execution_count": null,
      "metadata": {
        "id": "6q95ZmyyzwYN"
      },
      "outputs": [],
      "source": [
        "y_pred = randomForestRegressor.predict(x_test)"
      ]
    },
    {
      "cell_type": "code",
      "execution_count": null,
      "metadata": {
        "colab": {
          "base_uri": "https://localhost:8080/",
          "height": 374
        },
        "id": "7_LneoBYzwSa",
        "outputId": "1e29ce1b-aa1c-4fb1-fbbd-f86c6e70df7e"
      },
      "outputs": [
        {
          "output_type": "display_data",
          "data": {
            "text/plain": [
              "<Figure size 576x432 with 1 Axes>"
            ],
            "image/png": "[encoded data removed]"
          },
          "metadata": {
            "needs_background": "light"
          }
        }
      ],
      "source": [
        "plt.figure(figsize=(8, 6))\n",
        "plt.plot(y_test, label='Actual')\n",
        "plt.plot(y_pred, label='Predicted')\n",
        "plt.legend()\n",
        "plt.show()"
      ]
    },
    {
      "cell_type": "markdown",
      "metadata": {
        "id": "H7vyYw25LR-P"
      },
      "source": [
        "## **LSTM-DNN**"
      ]
    },
    {
      "cell_type": "code",
      "source": [
        "# Define the LSTM model\n",
        "model = Sequential()\n",
        "model.add(layers.LSTM(50, input_shape = (4,1), return_sequences = True))\n",
        "model.add(layers.Dropout(0.5))\n",
        "model.add(layers.LSTM(256))\n",
        "model.add(layers.Dropout(0.5))\n",
        "model.add(layers.Dense(1))\n",
        "model.add(layers.Activation(\"linear\"))\n",
        "\n",
        "model.compile(loss=\"mse\", optimizer=\"adam\")\n",
        "model.summary()"
      ],
      "metadata": {
        "id": "Fhjnpl1LNTg0"
      },
      "execution_count": null,
      "outputs": []
    },
    {
      "cell_type": "code",
      "source": [
        "history = model.fit(x_train, y_train, epochs=27)"
      ],
      "metadata": {
        "id": "AbxBv7dJOdNI"
      },
      "execution_count": null,
      "outputs": []
    },
    {
      "cell_type": "code",
      "source": [
        "y_pred = model.predict(x_test)\n",
        "plt.figure(figsize=(8, 6))\n",
        "plt.plot(y_test, label='Actual')\n",
        "plt.plot(y_pred, label='Predicted')\n",
        "plt.legend()\n",
        "plt.show()"
      ],
      "metadata": {
        "id": "rdyhrNQiN5YO"
      },
      "execution_count": null,
      "outputs": []
    },
    {
      "cell_type": "code",
      "source": [
        "print(y_pred)\n",
        "print(len(y_pred))\n",
        "print(len(y_pred[0]))"
      ],
      "metadata": {
        "id": "kn7DgeG1tai3"
      },
      "execution_count": null,
      "outputs": []
    },
    {
      "cell_type": "markdown",
      "metadata": {
        "id": "JPAcQkEHNXXV"
      },
      "source": [
        "## **1D-CNN-LSTM-DNN**"
      ]
    },
    {
      "cell_type": "code",
      "execution_count": null,
      "metadata": {
        "colab": {
          "base_uri": "https://localhost:8080/"
        },
        "id": "O5_boFxm8JSd",
        "outputId": "f18e886f-cbf9-43eb-f376-ddeb995734a4"
      },
      "outputs": [
        {
          "output_type": "stream",
          "name": "stdout",
          "text": [
            "WARNING:tensorflow:From <ipython-input-34-3838961f3f52>:2: experimental_run_functions_eagerly (from tensorflow.python.eager.def_function) is deprecated and will be removed in a future version.\n",
            "Instructions for updating:\n",
            "Use `tf.config.run_functions_eagerly` instead of the experimental version.\n",
            "Model: \"sequential_1\"\n",
            "_________________________________________________________________\n",
            " Layer (type)                Output Shape              Param #   \n",
            "=================================================================\n",
            " conv1d (Conv1D)             (None, 1, 1, 32)          160       \n",
            "                                                                 \n",
            " conv1d_1 (Conv1D)           (None, 1, 1, 64)          2112      \n",
            "                                                                 \n",
            " dropout_2 (Dropout)         (None, 1, 1, 64)          0         \n",
            "                                                                 \n",
            " reshape (Reshape)           (None, 1, 64)             0         \n",
            "                                                                 \n",
            " lstm_2 (LSTM)               (None, 1, 100)            66000     \n",
            "                                                                 \n",
            " dropout_3 (Dropout)         (None, 1, 100)            0         \n",
            "                                                                 \n",
            " lstm_3 (LSTM)               (None, 200)               240800    \n",
            "                                                                 \n",
            " dropout_4 (Dropout)         (None, 200)               0         \n",
            "                                                                 \n",
            " dense_1 (Dense)             (None, 128)               25728     \n",
            "                                                                 \n",
            " dense_2 (Dense)             (None, 1)                 129       \n",
            "                                                                 \n",
            "=================================================================\n",
            "Total params: 334,929\n",
            "Trainable params: 334,929\n",
            "Non-trainable params: 0\n",
            "_________________________________________________________________\n"
          ]
        }
      ],
      "source": [
        "import tensorflow as tf\n",
        "tf.config.experimental_run_functions_eagerly(True)\n",
        "\n",
        "\n",
        "model = Sequential()\n",
        "\n",
        "\n",
        "model.add(layers.Conv1D(32, kernel_size=1, activation='relu', padding='same', input_shape=(1,1,4)))\n",
        "model.add(layers.Conv1D(64, kernel_size=1, activation='relu', padding='same'))\n",
        "model.add(layers.Dropout(0.2))\n",
        "\n",
        "\n",
        "model.add(layers.Reshape((1,64)))\n",
        "\n",
        "\n",
        "model.add(layers.LSTM(100,return_sequences=True))\n",
        "model.add(layers.Dropout(0.5))\n",
        "model.add(layers.LSTM(200))\n",
        "model.add(layers.Dropout(0.5))\n",
        "\n",
        "\n",
        "model.add(layers.Dense(128, activation='relu'))\n",
        "model.add(layers.Dense(1, activation='linear'))\n",
        "model.compile(optimizer = 'adam', loss = 'mse', metrics = ['mse'])\n",
        "model.summary()\n"
      ]
    },
    {
      "cell_type": "code",
      "execution_count": null,
      "metadata": {
        "id": "Is6H0VGT314c"
      },
      "outputs": [],
      "source": [
        "x_train_cnn = x_train.reshape(x_train.shape[0],1,1,x_train.shape[1])\n",
        "x_test_cnn = x_test.reshape(x_test.shape[0],1,1,x_test.shape[1])"
      ]
    },
    {
      "cell_type": "code",
      "execution_count": null,
      "metadata": {
        "colab": {
          "base_uri": "https://localhost:8080/"
        },
        "id": "qJJ8vAGS6Kng",
        "outputId": "b9fa5010-46b2-4cbe-af26-5973abb5aadc"
      },
      "outputs": [
        {
          "output_type": "stream",
          "name": "stdout",
          "text": [
            "Epoch 1/30\n"
          ]
        },
        {
          "output_type": "stream",
          "name": "stderr",
          "text": [
            "/usr/local/lib/python3.7/dist-packages/tensorflow/python/data/ops/structured_function.py:265: UserWarning: Even though the `tf.config.experimental_run_functions_eagerly` option is set, this option does not apply to tf.data functions. To force eager execution of tf.data functions, please use `tf.data.experimental.enable_debug_mode()`.\n",
            "  \"Even though the `tf.config.experimental_run_functions_eagerly` \"\n"
          ]
        },
        {
          "output_type": "stream",
          "name": "stdout",
          "text": [
            "157/157 [==============================] - 13s 80ms/step - loss: 1.0216 - mse: 1.0216\n",
            "Epoch 2/30\n",
            "157/157 [==============================] - 20s 127ms/step - loss: 0.2325 - mse: 0.2325\n",
            "Epoch 3/30\n",
            "157/157 [==============================] - 16s 104ms/step - loss: 0.1521 - mse: 0.1521\n",
            "Epoch 4/30\n",
            "157/157 [==============================] - 14s 88ms/step - loss: 0.1562 - mse: 0.1562\n",
            "Epoch 5/30\n",
            "157/157 [==============================] - 13s 85ms/step - loss: 0.1333 - mse: 0.1333\n",
            "Epoch 6/30\n",
            "157/157 [==============================] - 8s 48ms/step - loss: 0.1192 - mse: 0.1192\n",
            "Epoch 7/30\n",
            "157/157 [==============================] - 8s 49ms/step - loss: 0.1283 - mse: 0.1283\n",
            "Epoch 8/30\n",
            "157/157 [==============================] - 8s 51ms/step - loss: 0.1205 - mse: 0.1205\n",
            "Epoch 9/30\n",
            "157/157 [==============================] - 8s 51ms/step - loss: 0.1206 - mse: 0.1206\n",
            "Epoch 10/30\n",
            "157/157 [==============================] - 8s 50ms/step - loss: 0.1187 - mse: 0.1187\n",
            "Epoch 11/30\n",
            "157/157 [==============================] - 9s 57ms/step - loss: 0.1131 - mse: 0.1131\n",
            "Epoch 12/30\n",
            "157/157 [==============================] - 8s 52ms/step - loss: 0.1026 - mse: 0.1026\n",
            "Epoch 13/30\n",
            "157/157 [==============================] - 8s 54ms/step - loss: 0.1139 - mse: 0.1139\n",
            "Epoch 14/30\n",
            "157/157 [==============================] - 8s 53ms/step - loss: 0.1066 - mse: 0.1066\n",
            "Epoch 15/30\n",
            "157/157 [==============================] - 8s 52ms/step - loss: 0.1116 - mse: 0.1116\n",
            "Epoch 16/30\n",
            "157/157 [==============================] - 8s 52ms/step - loss: 0.1106 - mse: 0.1106\n",
            "Epoch 17/30\n",
            "157/157 [==============================] - 8s 50ms/step - loss: 0.1115 - mse: 0.1115\n",
            "Epoch 18/30\n",
            "157/157 [==============================] - 8s 50ms/step - loss: 0.1001 - mse: 0.1001\n",
            "Epoch 19/30\n",
            "157/157 [==============================] - 8s 49ms/step - loss: 0.0967 - mse: 0.0967\n",
            "Epoch 20/30\n",
            "157/157 [==============================] - 8s 50ms/step - loss: 0.1055 - mse: 0.1055\n",
            "Epoch 21/30\n",
            "157/157 [==============================] - 7s 47ms/step - loss: 0.1079 - mse: 0.1079\n",
            "Epoch 22/30\n",
            "157/157 [==============================] - 8s 48ms/step - loss: 0.0958 - mse: 0.0958\n",
            "Epoch 23/30\n",
            "157/157 [==============================] - 8s 51ms/step - loss: 0.1010 - mse: 0.1010\n",
            "Epoch 24/30\n",
            "157/157 [==============================] - 9s 55ms/step - loss: 0.0978 - mse: 0.0978\n",
            "Epoch 25/30\n",
            "157/157 [==============================] - 8s 51ms/step - loss: 0.0957 - mse: 0.0957\n",
            "Epoch 26/30\n",
            "157/157 [==============================] - 8s 51ms/step - loss: 0.0999 - mse: 0.0999\n",
            "Epoch 27/30\n",
            "157/157 [==============================] - 8s 52ms/step - loss: 0.1001 - mse: 0.1001\n",
            "Epoch 28/30\n",
            "157/157 [==============================] - 8s 49ms/step - loss: 0.1041 - mse: 0.1041\n",
            "Epoch 29/30\n",
            "157/157 [==============================] - 8s 49ms/step - loss: 0.0986 - mse: 0.0986\n",
            "Epoch 30/30\n",
            "157/157 [==============================] - 8s 52ms/step - loss: 0.0967 - mse: 0.0967\n"
          ]
        }
      ],
      "source": [
        "history = model.fit(x_train_cnn,y_train,epochs=30)"
      ]
    },
    {
      "cell_type": "code",
      "execution_count": null,
      "metadata": {
        "colab": {
          "base_uri": "https://localhost:8080/"
        },
        "id": "etI0liwN68he",
        "outputId": "652754c7-6f13-4dff-ac12-9c986dd3bd42"
      },
      "outputs": [
        {
          "output_type": "stream",
          "name": "stderr",
          "text": [
            "/usr/local/lib/python3.7/dist-packages/tensorflow/python/data/ops/structured_function.py:265: UserWarning: Even though the `tf.config.experimental_run_functions_eagerly` option is set, this option does not apply to tf.data functions. To force eager execution of tf.data functions, please use `tf.data.experimental.enable_debug_mode()`.\n",
            "  \"Even though the `tf.config.experimental_run_functions_eagerly` \"\n"
          ]
        }
      ],
      "source": [
        "y_pred = model.predict(x_test_cnn)"
      ]
    },
    {
      "cell_type": "code",
      "execution_count": null,
      "metadata": {
        "colab": {
          "base_uri": "https://localhost:8080/",
          "height": 374
        },
        "id": "brIxuU15_Oxc",
        "outputId": "82600605-be0e-490d-cf4a-086412cca755"
      },
      "outputs": [
        {
          "output_type": "display_data",
          "data": {
            "text/plain": [
              "<Figure size 576x432 with 1 Axes>"
            ],
            "image/png": "[encoded data removed]"
          },
          "metadata": {
            "needs_background": "light"
          }
        }
      ],
      "source": [
        "plt.figure(figsize=(8, 6))\n",
        "plt.plot(y_test, label='Actual')\n",
        "plt.plot(y_pred, label='Predicted')\n",
        "plt.legend()\n",
        "plt.show()"
      ]
    },
    {
      "cell_type": "markdown",
      "source": [
        "З отриманих вище графіків, можна зробити висновок, що на даному датасеті усі 3 моделі досить добре себе проявили. Однак на LSTM-DNN графіку видно просідання в кінці, де данні найбільше коливаються. У 1D-CNN-LSTM-DNN графіку невеликі просідання помітні на проміжку від 200 до 600, де помітна певна сталість даних."
      ],
      "metadata": {
        "id": "w-R77j2fRfP5"
      }
    }
  ]
}